{
  "nbformat": 4,
  "nbformat_minor": 0,
  "metadata": {
    "colab": {
      "provenance": [],
      "toc_visible": true
    },
    "kernelspec": {
      "name": "python3",
      "display_name": "Python 3"
    },
    "language_info": {
      "name": "python"
    }
  },
  "cells": [
    {
      "cell_type": "markdown",
      "source": [
        "# Capstone Project: Fraud Detection in Mobile Financial Transactions  \n",
        "**Candidate Name:** Vanaj Kumar Yadav  \n",
        "**Institute:** Boston Institute of Analytics (BIA) , Anna Nagar  \n",
        "**Submission Date:** 30th June 2025  \n",
        "**Developed using:** Google Colab (Python, Scikit-learn, XGBoost, Matplotlib, Seaborn)\n",
        "\n",
        "---\n",
        "\n",
        "### 📝 Project Overview  \n",
        "This project develops a machine learning-based solution to detect fraudulent transactions in mobile finance systems. It includes detailed data analysis, model training, evaluation, and business-focused insights. The goal is to minimize false negatives (missed frauds), reduce financial loss, and ensure reliable fraud classification in a production-ready pipeline."
      ],
      "metadata": {
        "id": "MpxPbvubQuNp"
      }
    },
    {
      "cell_type": "markdown",
      "source": [
        "# **Data Collection**\n",
        "Loaded from Fraud_Analysis_Dataset.csv"
      ],
      "metadata": {
        "id": "RYnIHEid2yxZ"
      }
    },
    {
      "cell_type": "code",
      "source": [
        "from google.colab import files\n",
        "\n",
        "# Upload your CSV file from local system\n",
        "uploaded = files.upload()"
      ],
      "metadata": {
        "colab": {
          "base_uri": "https://localhost:8080/",
          "height": 73
        },
        "id": "nCxuZOjiSSG6",
        "outputId": "582173fc-d52e-4f34-923f-c35a4e0ca128"
      },
      "execution_count": 38,
      "outputs": [
        {
          "output_type": "display_data",
          "data": {
            "text/plain": [
              "<IPython.core.display.HTML object>"
            ],
            "text/html": [
              "\n",
              "     <input type=\"file\" id=\"files-5713fbc9-13ed-4ad6-9be2-0ad78db3a203\" name=\"files[]\" multiple disabled\n",
              "        style=\"border:none\" />\n",
              "     <output id=\"result-5713fbc9-13ed-4ad6-9be2-0ad78db3a203\">\n",
              "      Upload widget is only available when the cell has been executed in the\n",
              "      current browser session. Please rerun this cell to enable.\n",
              "      </output>\n",
              "      <script>// Copyright 2017 Google LLC\n",
              "//\n",
              "// Licensed under the Apache License, Version 2.0 (the \"License\");\n",
              "// you may not use this file except in compliance with the License.\n",
              "// You may obtain a copy of the License at\n",
              "//\n",
              "//      http://www.apache.org/licenses/LICENSE-2.0\n",
              "//\n",
              "// Unless required by applicable law or agreed to in writing, software\n",
              "// distributed under the License is distributed on an \"AS IS\" BASIS,\n",
              "// WITHOUT WARRANTIES OR CONDITIONS OF ANY KIND, either express or implied.\n",
              "// See the License for the specific language governing permissions and\n",
              "// limitations under the License.\n",
              "\n",
              "/**\n",
              " * @fileoverview Helpers for google.colab Python module.\n",
              " */\n",
              "(function(scope) {\n",
              "function span(text, styleAttributes = {}) {\n",
              "  const element = document.createElement('span');\n",
              "  element.textContent = text;\n",
              "  for (const key of Object.keys(styleAttributes)) {\n",
              "    element.style[key] = styleAttributes[key];\n",
              "  }\n",
              "  return element;\n",
              "}\n",
              "\n",
              "// Max number of bytes which will be uploaded at a time.\n",
              "const MAX_PAYLOAD_SIZE = 100 * 1024;\n",
              "\n",
              "function _uploadFiles(inputId, outputId) {\n",
              "  const steps = uploadFilesStep(inputId, outputId);\n",
              "  const outputElement = document.getElementById(outputId);\n",
              "  // Cache steps on the outputElement to make it available for the next call\n",
              "  // to uploadFilesContinue from Python.\n",
              "  outputElement.steps = steps;\n",
              "\n",
              "  return _uploadFilesContinue(outputId);\n",
              "}\n",
              "\n",
              "// This is roughly an async generator (not supported in the browser yet),\n",
              "// where there are multiple asynchronous steps and the Python side is going\n",
              "// to poll for completion of each step.\n",
              "// This uses a Promise to block the python side on completion of each step,\n",
              "// then passes the result of the previous step as the input to the next step.\n",
              "function _uploadFilesContinue(outputId) {\n",
              "  const outputElement = document.getElementById(outputId);\n",
              "  const steps = outputElement.steps;\n",
              "\n",
              "  const next = steps.next(outputElement.lastPromiseValue);\n",
              "  return Promise.resolve(next.value.promise).then((value) => {\n",
              "    // Cache the last promise value to make it available to the next\n",
              "    // step of the generator.\n",
              "    outputElement.lastPromiseValue = value;\n",
              "    return next.value.response;\n",
              "  });\n",
              "}\n",
              "\n",
              "/**\n",
              " * Generator function which is called between each async step of the upload\n",
              " * process.\n",
              " * @param {string} inputId Element ID of the input file picker element.\n",
              " * @param {string} outputId Element ID of the output display.\n",
              " * @return {!Iterable<!Object>} Iterable of next steps.\n",
              " */\n",
              "function* uploadFilesStep(inputId, outputId) {\n",
              "  const inputElement = document.getElementById(inputId);\n",
              "  inputElement.disabled = false;\n",
              "\n",
              "  const outputElement = document.getElementById(outputId);\n",
              "  outputElement.innerHTML = '';\n",
              "\n",
              "  const pickedPromise = new Promise((resolve) => {\n",
              "    inputElement.addEventListener('change', (e) => {\n",
              "      resolve(e.target.files);\n",
              "    });\n",
              "  });\n",
              "\n",
              "  const cancel = document.createElement('button');\n",
              "  inputElement.parentElement.appendChild(cancel);\n",
              "  cancel.textContent = 'Cancel upload';\n",
              "  const cancelPromise = new Promise((resolve) => {\n",
              "    cancel.onclick = () => {\n",
              "      resolve(null);\n",
              "    };\n",
              "  });\n",
              "\n",
              "  // Wait for the user to pick the files.\n",
              "  const files = yield {\n",
              "    promise: Promise.race([pickedPromise, cancelPromise]),\n",
              "    response: {\n",
              "      action: 'starting',\n",
              "    }\n",
              "  };\n",
              "\n",
              "  cancel.remove();\n",
              "\n",
              "  // Disable the input element since further picks are not allowed.\n",
              "  inputElement.disabled = true;\n",
              "\n",
              "  if (!files) {\n",
              "    return {\n",
              "      response: {\n",
              "        action: 'complete',\n",
              "      }\n",
              "    };\n",
              "  }\n",
              "\n",
              "  for (const file of files) {\n",
              "    const li = document.createElement('li');\n",
              "    li.append(span(file.name, {fontWeight: 'bold'}));\n",
              "    li.append(span(\n",
              "        `(${file.type || 'n/a'}) - ${file.size} bytes, ` +\n",
              "        `last modified: ${\n",
              "            file.lastModifiedDate ? file.lastModifiedDate.toLocaleDateString() :\n",
              "                                    'n/a'} - `));\n",
              "    const percent = span('0% done');\n",
              "    li.appendChild(percent);\n",
              "\n",
              "    outputElement.appendChild(li);\n",
              "\n",
              "    const fileDataPromise = new Promise((resolve) => {\n",
              "      const reader = new FileReader();\n",
              "      reader.onload = (e) => {\n",
              "        resolve(e.target.result);\n",
              "      };\n",
              "      reader.readAsArrayBuffer(file);\n",
              "    });\n",
              "    // Wait for the data to be ready.\n",
              "    let fileData = yield {\n",
              "      promise: fileDataPromise,\n",
              "      response: {\n",
              "        action: 'continue',\n",
              "      }\n",
              "    };\n",
              "\n",
              "    // Use a chunked sending to avoid message size limits. See b/62115660.\n",
              "    let position = 0;\n",
              "    do {\n",
              "      const length = Math.min(fileData.byteLength - position, MAX_PAYLOAD_SIZE);\n",
              "      const chunk = new Uint8Array(fileData, position, length);\n",
              "      position += length;\n",
              "\n",
              "      const base64 = btoa(String.fromCharCode.apply(null, chunk));\n",
              "      yield {\n",
              "        response: {\n",
              "          action: 'append',\n",
              "          file: file.name,\n",
              "          data: base64,\n",
              "        },\n",
              "      };\n",
              "\n",
              "      let percentDone = fileData.byteLength === 0 ?\n",
              "          100 :\n",
              "          Math.round((position / fileData.byteLength) * 100);\n",
              "      percent.textContent = `${percentDone}% done`;\n",
              "\n",
              "    } while (position < fileData.byteLength);\n",
              "  }\n",
              "\n",
              "  // All done.\n",
              "  yield {\n",
              "    response: {\n",
              "      action: 'complete',\n",
              "    }\n",
              "  };\n",
              "}\n",
              "\n",
              "scope.google = scope.google || {};\n",
              "scope.google.colab = scope.google.colab || {};\n",
              "scope.google.colab._files = {\n",
              "  _uploadFiles,\n",
              "  _uploadFilesContinue,\n",
              "};\n",
              "})(self);\n",
              "</script> "
            ]
          },
          "metadata": {}
        },
        {
          "output_type": "stream",
          "name": "stdout",
          "text": [
            "Saving Fraud_Analysis_Dataset.csv to Fraud_Analysis_Dataset (1).csv\n"
          ]
        }
      ]
    },
    {
      "cell_type": "markdown",
      "source": [
        "# **Exploratory Data Analysis (EDA Initial)**\n",
        "To better understand fraud patterns in the dataset, we conduct a series of exploratory visualizations. These insights are crucial to help frame business strategies, engineer features, and shape modeling approaches."
      ],
      "metadata": {
        "id": "w5FUSfCiRS81"
      }
    },
    {
      "cell_type": "markdown",
      "source": [
        "## Dataset Overview\n",
        "\n",
        "The dataset consists of transactional data from a mobile financial system.\n",
        "\n",
        "- Rows and columns: This gives us the size of the dataset.\n",
        "- `head()` is used to inspect the first few entries, including amounts, balances, transaction types, and fraud label.\n"
      ],
      "metadata": {
        "id": "rhMjXyVUCVGy"
      }
    },
    {
      "cell_type": "code",
      "source": [
        "import pandas as pd\n",
        "\n",
        "# Load dataset\n",
        "df = pd.read_csv('Fraud_Analysis_Dataset.csv')\n",
        "\n",
        "# Quick check\n",
        "print(\"Shape:\", df.shape)\n",
        "df.head()\n"
      ],
      "metadata": {
        "colab": {
          "base_uri": "https://localhost:8080/",
          "height": 224
        },
        "id": "B3O2onZ0ScSQ",
        "outputId": "d86adf43-6485-41f4-99c5-cb3e4b0b0c89"
      },
      "execution_count": 39,
      "outputs": [
        {
          "output_type": "stream",
          "name": "stdout",
          "text": [
            "Shape: (11142, 10)\n"
          ]
        },
        {
          "output_type": "execute_result",
          "data": {
            "text/plain": [
              "   step      type   amount     nameOrig  oldbalanceOrg  newbalanceOrig  \\\n",
              "0     1  TRANSFER    181.0  C1305486145          181.0             0.0   \n",
              "1     1  CASH_OUT    181.0   C840083671          181.0             0.0   \n",
              "2     1  TRANSFER   2806.0  C1420196421         2806.0             0.0   \n",
              "3     1  CASH_OUT   2806.0  C2101527076         2806.0             0.0   \n",
              "4     1  TRANSFER  20128.0   C137533655        20128.0             0.0   \n",
              "\n",
              "      nameDest  oldbalanceDest  newbalanceDest  isFraud  \n",
              "0   C553264065             0.0             0.0        1  \n",
              "1    C38997010         21182.0             0.0        1  \n",
              "2   C972765878             0.0             0.0        1  \n",
              "3  C1007251739         26202.0             0.0        1  \n",
              "4  C1848415041             0.0             0.0        1  "
            ],
            "text/html": [
              "\n",
              "  <div id=\"df-3c03efe3-5772-4645-9bc6-c8eda4d44ca6\" class=\"colab-df-container\">\n",
              "    <div>\n",
              "<style scoped>\n",
              "    .dataframe tbody tr th:only-of-type {\n",
              "        vertical-align: middle;\n",
              "    }\n",
              "\n",
              "    .dataframe tbody tr th {\n",
              "        vertical-align: top;\n",
              "    }\n",
              "\n",
              "    .dataframe thead th {\n",
              "        text-align: right;\n",
              "    }\n",
              "</style>\n",
              "<table border=\"1\" class=\"dataframe\">\n",
              "  <thead>\n",
              "    <tr style=\"text-align: right;\">\n",
              "      <th></th>\n",
              "      <th>step</th>\n",
              "      <th>type</th>\n",
              "      <th>amount</th>\n",
              "      <th>nameOrig</th>\n",
              "      <th>oldbalanceOrg</th>\n",
              "      <th>newbalanceOrig</th>\n",
              "      <th>nameDest</th>\n",
              "      <th>oldbalanceDest</th>\n",
              "      <th>newbalanceDest</th>\n",
              "      <th>isFraud</th>\n",
              "    </tr>\n",
              "  </thead>\n",
              "  <tbody>\n",
              "    <tr>\n",
              "      <th>0</th>\n",
              "      <td>1</td>\n",
              "      <td>TRANSFER</td>\n",
              "      <td>181.0</td>\n",
              "      <td>C1305486145</td>\n",
              "      <td>181.0</td>\n",
              "      <td>0.0</td>\n",
              "      <td>C553264065</td>\n",
              "      <td>0.0</td>\n",
              "      <td>0.0</td>\n",
              "      <td>1</td>\n",
              "    </tr>\n",
              "    <tr>\n",
              "      <th>1</th>\n",
              "      <td>1</td>\n",
              "      <td>CASH_OUT</td>\n",
              "      <td>181.0</td>\n",
              "      <td>C840083671</td>\n",
              "      <td>181.0</td>\n",
              "      <td>0.0</td>\n",
              "      <td>C38997010</td>\n",
              "      <td>21182.0</td>\n",
              "      <td>0.0</td>\n",
              "      <td>1</td>\n",
              "    </tr>\n",
              "    <tr>\n",
              "      <th>2</th>\n",
              "      <td>1</td>\n",
              "      <td>TRANSFER</td>\n",
              "      <td>2806.0</td>\n",
              "      <td>C1420196421</td>\n",
              "      <td>2806.0</td>\n",
              "      <td>0.0</td>\n",
              "      <td>C972765878</td>\n",
              "      <td>0.0</td>\n",
              "      <td>0.0</td>\n",
              "      <td>1</td>\n",
              "    </tr>\n",
              "    <tr>\n",
              "      <th>3</th>\n",
              "      <td>1</td>\n",
              "      <td>CASH_OUT</td>\n",
              "      <td>2806.0</td>\n",
              "      <td>C2101527076</td>\n",
              "      <td>2806.0</td>\n",
              "      <td>0.0</td>\n",
              "      <td>C1007251739</td>\n",
              "      <td>26202.0</td>\n",
              "      <td>0.0</td>\n",
              "      <td>1</td>\n",
              "    </tr>\n",
              "    <tr>\n",
              "      <th>4</th>\n",
              "      <td>1</td>\n",
              "      <td>TRANSFER</td>\n",
              "      <td>20128.0</td>\n",
              "      <td>C137533655</td>\n",
              "      <td>20128.0</td>\n",
              "      <td>0.0</td>\n",
              "      <td>C1848415041</td>\n",
              "      <td>0.0</td>\n",
              "      <td>0.0</td>\n",
              "      <td>1</td>\n",
              "    </tr>\n",
              "  </tbody>\n",
              "</table>\n",
              "</div>\n",
              "    <div class=\"colab-df-buttons\">\n",
              "\n",
              "  <div class=\"colab-df-container\">\n",
              "    <button class=\"colab-df-convert\" onclick=\"convertToInteractive('df-3c03efe3-5772-4645-9bc6-c8eda4d44ca6')\"\n",
              "            title=\"Convert this dataframe to an interactive table.\"\n",
              "            style=\"display:none;\">\n",
              "\n",
              "  <svg xmlns=\"http://www.w3.org/2000/svg\" height=\"24px\" viewBox=\"0 -960 960 960\">\n",
              "    <path d=\"M120-120v-720h720v720H120Zm60-500h600v-160H180v160Zm220 220h160v-160H400v160Zm0 220h160v-160H400v160ZM180-400h160v-160H180v160Zm440 0h160v-160H620v160ZM180-180h160v-160H180v160Zm440 0h160v-160H620v160Z\"/>\n",
              "  </svg>\n",
              "    </button>\n",
              "\n",
              "  <style>\n",
              "    .colab-df-container {\n",
              "      display:flex;\n",
              "      gap: 12px;\n",
              "    }\n",
              "\n",
              "    .colab-df-convert {\n",
              "      background-color: #E8F0FE;\n",
              "      border: none;\n",
              "      border-radius: 50%;\n",
              "      cursor: pointer;\n",
              "      display: none;\n",
              "      fill: #1967D2;\n",
              "      height: 32px;\n",
              "      padding: 0 0 0 0;\n",
              "      width: 32px;\n",
              "    }\n",
              "\n",
              "    .colab-df-convert:hover {\n",
              "      background-color: #E2EBFA;\n",
              "      box-shadow: 0px 1px 2px rgba(60, 64, 67, 0.3), 0px 1px 3px 1px rgba(60, 64, 67, 0.15);\n",
              "      fill: #174EA6;\n",
              "    }\n",
              "\n",
              "    .colab-df-buttons div {\n",
              "      margin-bottom: 4px;\n",
              "    }\n",
              "\n",
              "    [theme=dark] .colab-df-convert {\n",
              "      background-color: #3B4455;\n",
              "      fill: #D2E3FC;\n",
              "    }\n",
              "\n",
              "    [theme=dark] .colab-df-convert:hover {\n",
              "      background-color: #434B5C;\n",
              "      box-shadow: 0px 1px 3px 1px rgba(0, 0, 0, 0.15);\n",
              "      filter: drop-shadow(0px 1px 2px rgba(0, 0, 0, 0.3));\n",
              "      fill: #FFFFFF;\n",
              "    }\n",
              "  </style>\n",
              "\n",
              "    <script>\n",
              "      const buttonEl =\n",
              "        document.querySelector('#df-3c03efe3-5772-4645-9bc6-c8eda4d44ca6 button.colab-df-convert');\n",
              "      buttonEl.style.display =\n",
              "        google.colab.kernel.accessAllowed ? 'block' : 'none';\n",
              "\n",
              "      async function convertToInteractive(key) {\n",
              "        const element = document.querySelector('#df-3c03efe3-5772-4645-9bc6-c8eda4d44ca6');\n",
              "        const dataTable =\n",
              "          await google.colab.kernel.invokeFunction('convertToInteractive',\n",
              "                                                    [key], {});\n",
              "        if (!dataTable) return;\n",
              "\n",
              "        const docLinkHtml = 'Like what you see? Visit the ' +\n",
              "          '<a target=\"_blank\" href=https://colab.research.google.com/notebooks/data_table.ipynb>data table notebook</a>'\n",
              "          + ' to learn more about interactive tables.';\n",
              "        element.innerHTML = '';\n",
              "        dataTable['output_type'] = 'display_data';\n",
              "        await google.colab.output.renderOutput(dataTable, element);\n",
              "        const docLink = document.createElement('div');\n",
              "        docLink.innerHTML = docLinkHtml;\n",
              "        element.appendChild(docLink);\n",
              "      }\n",
              "    </script>\n",
              "  </div>\n",
              "\n",
              "\n",
              "    <div id=\"df-1eded98f-1d49-4d40-be72-84c48b7581f1\">\n",
              "      <button class=\"colab-df-quickchart\" onclick=\"quickchart('df-1eded98f-1d49-4d40-be72-84c48b7581f1')\"\n",
              "                title=\"Suggest charts\"\n",
              "                style=\"display:none;\">\n",
              "\n",
              "<svg xmlns=\"http://www.w3.org/2000/svg\" height=\"24px\"viewBox=\"0 0 24 24\"\n",
              "     width=\"24px\">\n",
              "    <g>\n",
              "        <path d=\"M19 3H5c-1.1 0-2 .9-2 2v14c0 1.1.9 2 2 2h14c1.1 0 2-.9 2-2V5c0-1.1-.9-2-2-2zM9 17H7v-7h2v7zm4 0h-2V7h2v10zm4 0h-2v-4h2v4z\"/>\n",
              "    </g>\n",
              "</svg>\n",
              "      </button>\n",
              "\n",
              "<style>\n",
              "  .colab-df-quickchart {\n",
              "      --bg-color: #E8F0FE;\n",
              "      --fill-color: #1967D2;\n",
              "      --hover-bg-color: #E2EBFA;\n",
              "      --hover-fill-color: #174EA6;\n",
              "      --disabled-fill-color: #AAA;\n",
              "      --disabled-bg-color: #DDD;\n",
              "  }\n",
              "\n",
              "  [theme=dark] .colab-df-quickchart {\n",
              "      --bg-color: #3B4455;\n",
              "      --fill-color: #D2E3FC;\n",
              "      --hover-bg-color: #434B5C;\n",
              "      --hover-fill-color: #FFFFFF;\n",
              "      --disabled-bg-color: #3B4455;\n",
              "      --disabled-fill-color: #666;\n",
              "  }\n",
              "\n",
              "  .colab-df-quickchart {\n",
              "    background-color: var(--bg-color);\n",
              "    border: none;\n",
              "    border-radius: 50%;\n",
              "    cursor: pointer;\n",
              "    display: none;\n",
              "    fill: var(--fill-color);\n",
              "    height: 32px;\n",
              "    padding: 0;\n",
              "    width: 32px;\n",
              "  }\n",
              "\n",
              "  .colab-df-quickchart:hover {\n",
              "    background-color: var(--hover-bg-color);\n",
              "    box-shadow: 0 1px 2px rgba(60, 64, 67, 0.3), 0 1px 3px 1px rgba(60, 64, 67, 0.15);\n",
              "    fill: var(--button-hover-fill-color);\n",
              "  }\n",
              "\n",
              "  .colab-df-quickchart-complete:disabled,\n",
              "  .colab-df-quickchart-complete:disabled:hover {\n",
              "    background-color: var(--disabled-bg-color);\n",
              "    fill: var(--disabled-fill-color);\n",
              "    box-shadow: none;\n",
              "  }\n",
              "\n",
              "  .colab-df-spinner {\n",
              "    border: 2px solid var(--fill-color);\n",
              "    border-color: transparent;\n",
              "    border-bottom-color: var(--fill-color);\n",
              "    animation:\n",
              "      spin 1s steps(1) infinite;\n",
              "  }\n",
              "\n",
              "  @keyframes spin {\n",
              "    0% {\n",
              "      border-color: transparent;\n",
              "      border-bottom-color: var(--fill-color);\n",
              "      border-left-color: var(--fill-color);\n",
              "    }\n",
              "    20% {\n",
              "      border-color: transparent;\n",
              "      border-left-color: var(--fill-color);\n",
              "      border-top-color: var(--fill-color);\n",
              "    }\n",
              "    30% {\n",
              "      border-color: transparent;\n",
              "      border-left-color: var(--fill-color);\n",
              "      border-top-color: var(--fill-color);\n",
              "      border-right-color: var(--fill-color);\n",
              "    }\n",
              "    40% {\n",
              "      border-color: transparent;\n",
              "      border-right-color: var(--fill-color);\n",
              "      border-top-color: var(--fill-color);\n",
              "    }\n",
              "    60% {\n",
              "      border-color: transparent;\n",
              "      border-right-color: var(--fill-color);\n",
              "    }\n",
              "    80% {\n",
              "      border-color: transparent;\n",
              "      border-right-color: var(--fill-color);\n",
              "      border-bottom-color: var(--fill-color);\n",
              "    }\n",
              "    90% {\n",
              "      border-color: transparent;\n",
              "      border-bottom-color: var(--fill-color);\n",
              "    }\n",
              "  }\n",
              "</style>\n",
              "\n",
              "      <script>\n",
              "        async function quickchart(key) {\n",
              "          const quickchartButtonEl =\n",
              "            document.querySelector('#' + key + ' button');\n",
              "          quickchartButtonEl.disabled = true;  // To prevent multiple clicks.\n",
              "          quickchartButtonEl.classList.add('colab-df-spinner');\n",
              "          try {\n",
              "            const charts = await google.colab.kernel.invokeFunction(\n",
              "                'suggestCharts', [key], {});\n",
              "          } catch (error) {\n",
              "            console.error('Error during call to suggestCharts:', error);\n",
              "          }\n",
              "          quickchartButtonEl.classList.remove('colab-df-spinner');\n",
              "          quickchartButtonEl.classList.add('colab-df-quickchart-complete');\n",
              "        }\n",
              "        (() => {\n",
              "          let quickchartButtonEl =\n",
              "            document.querySelector('#df-1eded98f-1d49-4d40-be72-84c48b7581f1 button');\n",
              "          quickchartButtonEl.style.display =\n",
              "            google.colab.kernel.accessAllowed ? 'block' : 'none';\n",
              "        })();\n",
              "      </script>\n",
              "    </div>\n",
              "\n",
              "    </div>\n",
              "  </div>\n"
            ],
            "application/vnd.google.colaboratory.intrinsic+json": {
              "type": "dataframe",
              "variable_name": "df",
              "summary": "{\n  \"name\": \"df\",\n  \"rows\": 11142,\n  \"fields\": [\n    {\n      \"column\": \"step\",\n      \"properties\": {\n        \"dtype\": \"number\",\n        \"std\": 16,\n        \"min\": 1,\n        \"max\": 95,\n        \"num_unique_values\": 95,\n        \"samples\": [\n          69,\n          23,\n          73\n        ],\n        \"semantic_type\": \"\",\n        \"description\": \"\"\n      }\n    },\n    {\n      \"column\": \"type\",\n      \"properties\": {\n        \"dtype\": \"category\",\n        \"num_unique_values\": 5,\n        \"samples\": [\n          \"CASH_OUT\",\n          \"CASH_IN\",\n          \"PAYMENT\"\n        ],\n        \"semantic_type\": \"\",\n        \"description\": \"\"\n      }\n    },\n    {\n      \"column\": \"amount\",\n      \"properties\": {\n        \"dtype\": \"number\",\n        \"std\": 760065.0076729241,\n        \"min\": 2.39,\n        \"max\": 10000000.0,\n        \"num_unique_values\": 10565,\n        \"samples\": [\n          235419.91,\n          108019.99,\n          9381.55\n        ],\n        \"semantic_type\": \"\",\n        \"description\": \"\"\n      }\n    },\n    {\n      \"column\": \"nameOrig\",\n      \"properties\": {\n        \"dtype\": \"string\",\n        \"num_unique_values\": 11142,\n        \"samples\": [\n          \"C190182839\",\n          \"C866414395\",\n          \"C998101363\"\n        ],\n        \"semantic_type\": \"\",\n        \"description\": \"\"\n      }\n    },\n    {\n      \"column\": \"oldbalanceOrg\",\n      \"properties\": {\n        \"dtype\": \"number\",\n        \"std\": 2143004.314181854,\n        \"min\": 0.0,\n        \"max\": 19900000.0,\n        \"num_unique_values\": 7806,\n        \"samples\": [\n          23701.0,\n          138608.86,\n          1853.0\n        ],\n        \"semantic_type\": \"\",\n        \"description\": \"\"\n      }\n    },\n    {\n      \"column\": \"newbalanceOrig\",\n      \"properties\": {\n        \"dtype\": \"number\",\n        \"std\": 2089894.1740431988,\n        \"min\": 0.0,\n        \"max\": 13000000.0,\n        \"num_unique_values\": 5914,\n        \"samples\": [\n          15475.09,\n          4713.51,\n          3453300.52\n        ],\n        \"semantic_type\": \"\",\n        \"description\": \"\"\n      }\n    },\n    {\n      \"column\": \"nameDest\",\n      \"properties\": {\n        \"dtype\": \"string\",\n        \"num_unique_values\": 7508,\n        \"samples\": [\n          \"M456228477\",\n          \"M1868532012\",\n          \"C399685190\"\n        ],\n        \"semantic_type\": \"\",\n        \"description\": \"\"\n      }\n    },\n    {\n      \"column\": \"oldbalanceDest\",\n      \"properties\": {\n        \"dtype\": \"number\",\n        \"std\": 2601375.850520785,\n        \"min\": 0.0,\n        \"max\": 33000000.0,\n        \"num_unique_values\": 4531,\n        \"samples\": [\n          4450740.26,\n          48749.55,\n          420710.0\n        ],\n        \"semantic_type\": \"\",\n        \"description\": \"\"\n      }\n    },\n    {\n      \"column\": \"newbalanceDest\",\n      \"properties\": {\n        \"dtype\": \"number\",\n        \"std\": 2982447.121574567,\n        \"min\": 0.0,\n        \"max\": 34600000.0,\n        \"num_unique_values\": 2030,\n        \"samples\": [\n          3382000.83,\n          411058.34,\n          36054.62\n        ],\n        \"semantic_type\": \"\",\n        \"description\": \"\"\n      }\n    },\n    {\n      \"column\": \"isFraud\",\n      \"properties\": {\n        \"dtype\": \"number\",\n        \"std\": 0,\n        \"min\": 0,\n        \"max\": 1,\n        \"num_unique_values\": 2,\n        \"samples\": [\n          0,\n          1\n        ],\n        \"semantic_type\": \"\",\n        \"description\": \"\"\n      }\n    }\n  ]\n}"
            }
          },
          "metadata": {},
          "execution_count": 39
        }
      ]
    },
    {
      "cell_type": "markdown",
      "source": [
        "## Data Types and Structure\n",
        "\n",
        "This shows each column’s data type and confirms whether any null values are reported. This step is essential before cleaning.\n"
      ],
      "metadata": {
        "id": "D8-dotneCxQz"
      }
    },
    {
      "cell_type": "code",
      "source": [
        "# Check data types and nulls\n",
        "df.info()\n"
      ],
      "metadata": {
        "colab": {
          "base_uri": "https://localhost:8080/"
        },
        "id": "YwENetp-Cq7f",
        "outputId": "acb7aa8a-c60c-42d7-c70a-ffd8b3357023"
      },
      "execution_count": 40,
      "outputs": [
        {
          "output_type": "stream",
          "name": "stdout",
          "text": [
            "<class 'pandas.core.frame.DataFrame'>\n",
            "RangeIndex: 11142 entries, 0 to 11141\n",
            "Data columns (total 10 columns):\n",
            " #   Column          Non-Null Count  Dtype  \n",
            "---  ------          --------------  -----  \n",
            " 0   step            11142 non-null  int64  \n",
            " 1   type            11142 non-null  object \n",
            " 2   amount          11142 non-null  float64\n",
            " 3   nameOrig        11142 non-null  object \n",
            " 4   oldbalanceOrg   11142 non-null  float64\n",
            " 5   newbalanceOrig  11142 non-null  float64\n",
            " 6   nameDest        11142 non-null  object \n",
            " 7   oldbalanceDest  11142 non-null  float64\n",
            " 8   newbalanceDest  11142 non-null  float64\n",
            " 9   isFraud         11142 non-null  int64  \n",
            "dtypes: float64(5), int64(2), object(3)\n",
            "memory usage: 870.6+ KB\n"
          ]
        }
      ]
    },
    {
      "cell_type": "markdown",
      "source": [
        "## Unique Values Per Column\n",
        "\n",
        "This tells us whether columns contain repetitive values or are high-cardinality (like IDs). This helps us plan what to drop or encode later.\n"
      ],
      "metadata": {
        "id": "AB3KSSDLKf0H"
      }
    },
    {
      "cell_type": "code",
      "source": [
        "# Number of unique values in each column\n",
        "df.nunique()\n"
      ],
      "metadata": {
        "colab": {
          "base_uri": "https://localhost:8080/",
          "height": 397
        },
        "id": "EG8jkyk5Kb0l",
        "outputId": "b615e376-7179-4e17-c1eb-a2f539765c76"
      },
      "execution_count": 41,
      "outputs": [
        {
          "output_type": "execute_result",
          "data": {
            "text/plain": [
              "step                 95\n",
              "type                  5\n",
              "amount            10565\n",
              "nameOrig          11142\n",
              "oldbalanceOrg      7806\n",
              "newbalanceOrig     5914\n",
              "nameDest           7508\n",
              "oldbalanceDest     4531\n",
              "newbalanceDest     2030\n",
              "isFraud               2\n",
              "dtype: int64"
            ],
            "text/html": [
              "<div>\n",
              "<style scoped>\n",
              "    .dataframe tbody tr th:only-of-type {\n",
              "        vertical-align: middle;\n",
              "    }\n",
              "\n",
              "    .dataframe tbody tr th {\n",
              "        vertical-align: top;\n",
              "    }\n",
              "\n",
              "    .dataframe thead th {\n",
              "        text-align: right;\n",
              "    }\n",
              "</style>\n",
              "<table border=\"1\" class=\"dataframe\">\n",
              "  <thead>\n",
              "    <tr style=\"text-align: right;\">\n",
              "      <th></th>\n",
              "      <th>0</th>\n",
              "    </tr>\n",
              "  </thead>\n",
              "  <tbody>\n",
              "    <tr>\n",
              "      <th>step</th>\n",
              "      <td>95</td>\n",
              "    </tr>\n",
              "    <tr>\n",
              "      <th>type</th>\n",
              "      <td>5</td>\n",
              "    </tr>\n",
              "    <tr>\n",
              "      <th>amount</th>\n",
              "      <td>10565</td>\n",
              "    </tr>\n",
              "    <tr>\n",
              "      <th>nameOrig</th>\n",
              "      <td>11142</td>\n",
              "    </tr>\n",
              "    <tr>\n",
              "      <th>oldbalanceOrg</th>\n",
              "      <td>7806</td>\n",
              "    </tr>\n",
              "    <tr>\n",
              "      <th>newbalanceOrig</th>\n",
              "      <td>5914</td>\n",
              "    </tr>\n",
              "    <tr>\n",
              "      <th>nameDest</th>\n",
              "      <td>7508</td>\n",
              "    </tr>\n",
              "    <tr>\n",
              "      <th>oldbalanceDest</th>\n",
              "      <td>4531</td>\n",
              "    </tr>\n",
              "    <tr>\n",
              "      <th>newbalanceDest</th>\n",
              "      <td>2030</td>\n",
              "    </tr>\n",
              "    <tr>\n",
              "      <th>isFraud</th>\n",
              "      <td>2</td>\n",
              "    </tr>\n",
              "  </tbody>\n",
              "</table>\n",
              "</div><br><label><b>dtype:</b> int64</label>"
            ]
          },
          "metadata": {},
          "execution_count": 41
        }
      ]
    },
    {
      "cell_type": "markdown",
      "source": [
        "## Fraud vs Non-Fraud Distribution\n",
        "\n",
        "We plot the distribution of the target variable (`isFraud`) to understand class imbalance. This affects model training and evaluation strategy.\n"
      ],
      "metadata": {
        "id": "6mu3jAoULDYF"
      }
    },
    {
      "cell_type": "code",
      "source": [
        "# Class distribution\n",
        "df['isFraud'].value_counts(normalize=True).plot(kind='bar', color=['green', 'red'])\n",
        "print(\"Class distribution:\\n\", df['isFraud'].value_counts(normalize=True))\n"
      ],
      "metadata": {
        "colab": {
          "base_uri": "https://localhost:8080/",
          "height": 535
        },
        "id": "JNyHpwQaK00X",
        "outputId": "396248c2-2653-4df0-988b-044eaaf7aec9"
      },
      "execution_count": 42,
      "outputs": [
        {
          "output_type": "stream",
          "name": "stdout",
          "text": [
            "Class distribution:\n",
            " isFraud\n",
            "0    0.897505\n",
            "1    0.102495\n",
            "Name: proportion, dtype: float64\n"
          ]
        },
        {
          "output_type": "display_data",
          "data": {
            "text/plain": [
              "<Figure size 640x480 with 1 Axes>"
            ],
            "image/png": "[encoded data removed]"
          },
          "metadata": {}
        }
      ]
    },
    {
      "cell_type": "markdown",
      "source": [
        "## Statistical Summary of Numeric Columns\n",
        "\n",
        "We used `df.describe()` to get a quick statistical overview of key numeric features like amount and balances. This helps detect outliers, prepare for scaling, and understand the general structure of the data.\n"
      ],
      "metadata": {
        "id": "fZQ8VmeUMr32"
      }
    },
    {
      "cell_type": "code",
      "source": [
        "df.describe()\n"
      ],
      "metadata": {
        "colab": {
          "base_uri": "https://localhost:8080/",
          "height": 300
        },
        "id": "-1FSBY0XLTdc",
        "outputId": "7a8043b2-ca61-4b3c-9d00-1ad8f854095c"
      },
      "execution_count": 43,
      "outputs": [
        {
          "output_type": "execute_result",
          "data": {
            "text/plain": [
              "               step        amount  oldbalanceOrg  newbalanceOrig  \\\n",
              "count  11142.000000  1.114200e+04   1.114200e+04    1.114200e+04   \n",
              "mean       8.717645  2.131915e+05   9.241173e+05    8.249576e+05   \n",
              "std       16.067479  7.600650e+05   2.143004e+06    2.089894e+06   \n",
              "min        1.000000  2.390000e+00   0.000000e+00    0.000000e+00   \n",
              "25%        2.000000  4.946618e+03   4.270000e+02    0.000000e+00   \n",
              "50%        6.000000  1.676126e+04   2.816950e+04    4.420605e+03   \n",
              "75%        7.000000  1.543366e+05   3.040855e+05    1.114126e+05   \n",
              "max       95.000000  1.000000e+07   1.990000e+07    1.300000e+07   \n",
              "\n",
              "       oldbalanceDest  newbalanceDest       isFraud  \n",
              "count    1.114200e+04    1.114200e+04  11142.000000  \n",
              "mean     8.883541e+05    1.103211e+06      0.102495  \n",
              "std      2.601376e+06    2.982447e+06      0.303312  \n",
              "min      0.000000e+00    0.000000e+00      0.000000  \n",
              "25%      0.000000e+00    0.000000e+00      0.000000  \n",
              "50%      0.000000e+00    0.000000e+00      0.000000  \n",
              "75%      2.711555e+05    3.186374e+05      0.000000  \n",
              "max      3.300000e+07    3.460000e+07      1.000000  "
            ],
            "text/html": [
              "\n",
              "  <div id=\"df-7e1a7066-f32c-47a7-83ac-eb20025840ad\" class=\"colab-df-container\">\n",
              "    <div>\n",
              "<style scoped>\n",
              "    .dataframe tbody tr th:only-of-type {\n",
              "        vertical-align: middle;\n",
              "    }\n",
              "\n",
              "    .dataframe tbody tr th {\n",
              "        vertical-align: top;\n",
              "    }\n",
              "\n",
              "    .dataframe thead th {\n",
              "        text-align: right;\n",
              "    }\n",
              "</style>\n",
              "<table border=\"1\" class=\"dataframe\">\n",
              "  <thead>\n",
              "    <tr style=\"text-align: right;\">\n",
              "      <th></th>\n",
              "      <th>step</th>\n",
              "      <th>amount</th>\n",
              "      <th>oldbalanceOrg</th>\n",
              "      <th>newbalanceOrig</th>\n",
              "      <th>oldbalanceDest</th>\n",
              "      <th>newbalanceDest</th>\n",
              "      <th>isFraud</th>\n",
              "    </tr>\n",
              "  </thead>\n",
              "  <tbody>\n",
              "    <tr>\n",
              "      <th>count</th>\n",
              "      <td>11142.000000</td>\n",
              "      <td>1.114200e+04</td>\n",
              "      <td>1.114200e+04</td>\n",
              "      <td>1.114200e+04</td>\n",
              "      <td>1.114200e+04</td>\n",
              "      <td>1.114200e+04</td>\n",
              "      <td>11142.000000</td>\n",
              "    </tr>\n",
              "    <tr>\n",
              "      <th>mean</th>\n",
              "      <td>8.717645</td>\n",
              "      <td>2.131915e+05</td>\n",
              "      <td>9.241173e+05</td>\n",
              "      <td>8.249576e+05</td>\n",
              "      <td>8.883541e+05</td>\n",
              "      <td>1.103211e+06</td>\n",
              "      <td>0.102495</td>\n",
              "    </tr>\n",
              "    <tr>\n",
              "      <th>std</th>\n",
              "      <td>16.067479</td>\n",
              "      <td>7.600650e+05</td>\n",
              "      <td>2.143004e+06</td>\n",
              "      <td>2.089894e+06</td>\n",
              "      <td>2.601376e+06</td>\n",
              "      <td>2.982447e+06</td>\n",
              "      <td>0.303312</td>\n",
              "    </tr>\n",
              "    <tr>\n",
              "      <th>min</th>\n",
              "      <td>1.000000</td>\n",
              "      <td>2.390000e+00</td>\n",
              "      <td>0.000000e+00</td>\n",
              "      <td>0.000000e+00</td>\n",
              "      <td>0.000000e+00</td>\n",
              "      <td>0.000000e+00</td>\n",
              "      <td>0.000000</td>\n",
              "    </tr>\n",
              "    <tr>\n",
              "      <th>25%</th>\n",
              "      <td>2.000000</td>\n",
              "      <td>4.946618e+03</td>\n",
              "      <td>4.270000e+02</td>\n",
              "      <td>0.000000e+00</td>\n",
              "      <td>0.000000e+00</td>\n",
              "      <td>0.000000e+00</td>\n",
              "      <td>0.000000</td>\n",
              "    </tr>\n",
              "    <tr>\n",
              "      <th>50%</th>\n",
              "      <td>6.000000</td>\n",
              "      <td>1.676126e+04</td>\n",
              "      <td>2.816950e+04</td>\n",
              "      <td>4.420605e+03</td>\n",
              "      <td>0.000000e+00</td>\n",
              "      <td>0.000000e+00</td>\n",
              "      <td>0.000000</td>\n",
              "    </tr>\n",
              "    <tr>\n",
              "      <th>75%</th>\n",
              "      <td>7.000000</td>\n",
              "      <td>1.543366e+05</td>\n",
              "      <td>3.040855e+05</td>\n",
              "      <td>1.114126e+05</td>\n",
              "      <td>2.711555e+05</td>\n",
              "      <td>3.186374e+05</td>\n",
              "      <td>0.000000</td>\n",
              "    </tr>\n",
              "    <tr>\n",
              "      <th>max</th>\n",
              "      <td>95.000000</td>\n",
              "      <td>1.000000e+07</td>\n",
              "      <td>1.990000e+07</td>\n",
              "      <td>1.300000e+07</td>\n",
              "      <td>3.300000e+07</td>\n",
              "      <td>3.460000e+07</td>\n",
              "      <td>1.000000</td>\n",
              "    </tr>\n",
              "  </tbody>\n",
              "</table>\n",
              "</div>\n",
              "    <div class=\"colab-df-buttons\">\n",
              "\n",
              "  <div class=\"colab-df-container\">\n",
              "    <button class=\"colab-df-convert\" onclick=\"convertToInteractive('df-7e1a7066-f32c-47a7-83ac-eb20025840ad')\"\n",
              "            title=\"Convert this dataframe to an interactive table.\"\n",
              "            style=\"display:none;\">\n",
              "\n",
              "  <svg xmlns=\"http://www.w3.org/2000/svg\" height=\"24px\" viewBox=\"0 -960 960 960\">\n",
              "    <path d=\"M120-120v-720h720v720H120Zm60-500h600v-160H180v160Zm220 220h160v-160H400v160Zm0 220h160v-160H400v160ZM180-400h160v-160H180v160Zm440 0h160v-160H620v160ZM180-180h160v-160H180v160Zm440 0h160v-160H620v160Z\"/>\n",
              "  </svg>\n",
              "    </button>\n",
              "\n",
              "  <style>\n",
              "    .colab-df-container {\n",
              "      display:flex;\n",
              "      gap: 12px;\n",
              "    }\n",
              "\n",
              "    .colab-df-convert {\n",
              "      background-color: #E8F0FE;\n",
              "      border: none;\n",
              "      border-radius: 50%;\n",
              "      cursor: pointer;\n",
              "      display: none;\n",
              "      fill: #1967D2;\n",
              "      height: 32px;\n",
              "      padding: 0 0 0 0;\n",
              "      width: 32px;\n",
              "    }\n",
              "\n",
              "    .colab-df-convert:hover {\n",
              "      background-color: #E2EBFA;\n",
              "      box-shadow: 0px 1px 2px rgba(60, 64, 67, 0.3), 0px 1px 3px 1px rgba(60, 64, 67, 0.15);\n",
              "      fill: #174EA6;\n",
              "    }\n",
              "\n",
              "    .colab-df-buttons div {\n",
              "      margin-bottom: 4px;\n",
              "    }\n",
              "\n",
              "    [theme=dark] .colab-df-convert {\n",
              "      background-color: #3B4455;\n",
              "      fill: #D2E3FC;\n",
              "    }\n",
              "\n",
              "    [theme=dark] .colab-df-convert:hover {\n",
              "      background-color: #434B5C;\n",
              "      box-shadow: 0px 1px 3px 1px rgba(0, 0, 0, 0.15);\n",
              "      filter: drop-shadow(0px 1px 2px rgba(0, 0, 0, 0.3));\n",
              "      fill: #FFFFFF;\n",
              "    }\n",
              "  </style>\n",
              "\n",
              "    <script>\n",
              "      const buttonEl =\n",
              "        document.querySelector('#df-7e1a7066-f32c-47a7-83ac-eb20025840ad button.colab-df-convert');\n",
              "      buttonEl.style.display =\n",
              "        google.colab.kernel.accessAllowed ? 'block' : 'none';\n",
              "\n",
              "      async function convertToInteractive(key) {\n",
              "        const element = document.querySelector('#df-7e1a7066-f32c-47a7-83ac-eb20025840ad');\n",
              "        const dataTable =\n",
              "          await google.colab.kernel.invokeFunction('convertToInteractive',\n",
              "                                                    [key], {});\n",
              "        if (!dataTable) return;\n",
              "\n",
              "        const docLinkHtml = 'Like what you see? Visit the ' +\n",
              "          '<a target=\"_blank\" href=https://colab.research.google.com/notebooks/data_table.ipynb>data table notebook</a>'\n",
              "          + ' to learn more about interactive tables.';\n",
              "        element.innerHTML = '';\n",
              "        dataTable['output_type'] = 'display_data';\n",
              "        await google.colab.output.renderOutput(dataTable, element);\n",
              "        const docLink = document.createElement('div');\n",
              "        docLink.innerHTML = docLinkHtml;\n",
              "        element.appendChild(docLink);\n",
              "      }\n",
              "    </script>\n",
              "  </div>\n",
              "\n",
              "\n",
              "    <div id=\"df-11e356a9-c87b-48cd-9748-a368162bb8ca\">\n",
              "      <button class=\"colab-df-quickchart\" onclick=\"quickchart('df-11e356a9-c87b-48cd-9748-a368162bb8ca')\"\n",
              "                title=\"Suggest charts\"\n",
              "                style=\"display:none;\">\n",
              "\n",
              "<svg xmlns=\"http://www.w3.org/2000/svg\" height=\"24px\"viewBox=\"0 0 24 24\"\n",
              "     width=\"24px\">\n",
              "    <g>\n",
              "        <path d=\"M19 3H5c-1.1 0-2 .9-2 2v14c0 1.1.9 2 2 2h14c1.1 0 2-.9 2-2V5c0-1.1-.9-2-2-2zM9 17H7v-7h2v7zm4 0h-2V7h2v10zm4 0h-2v-4h2v4z\"/>\n",
              "    </g>\n",
              "</svg>\n",
              "      </button>\n",
              "\n",
              "<style>\n",
              "  .colab-df-quickchart {\n",
              "      --bg-color: #E8F0FE;\n",
              "      --fill-color: #1967D2;\n",
              "      --hover-bg-color: #E2EBFA;\n",
              "      --hover-fill-color: #174EA6;\n",
              "      --disabled-fill-color: #AAA;\n",
              "      --disabled-bg-color: #DDD;\n",
              "  }\n",
              "\n",
              "  [theme=dark] .colab-df-quickchart {\n",
              "      --bg-color: #3B4455;\n",
              "      --fill-color: #D2E3FC;\n",
              "      --hover-bg-color: #434B5C;\n",
              "      --hover-fill-color: #FFFFFF;\n",
              "      --disabled-bg-color: #3B4455;\n",
              "      --disabled-fill-color: #666;\n",
              "  }\n",
              "\n",
              "  .colab-df-quickchart {\n",
              "    background-color: var(--bg-color);\n",
              "    border: none;\n",
              "    border-radius: 50%;\n",
              "    cursor: pointer;\n",
              "    display: none;\n",
              "    fill: var(--fill-color);\n",
              "    height: 32px;\n",
              "    padding: 0;\n",
              "    width: 32px;\n",
              "  }\n",
              "\n",
              "  .colab-df-quickchart:hover {\n",
              "    background-color: var(--hover-bg-color);\n",
              "    box-shadow: 0 1px 2px rgba(60, 64, 67, 0.3), 0 1px 3px 1px rgba(60, 64, 67, 0.15);\n",
              "    fill: var(--button-hover-fill-color);\n",
              "  }\n",
              "\n",
              "  .colab-df-quickchart-complete:disabled,\n",
              "  .colab-df-quickchart-complete:disabled:hover {\n",
              "    background-color: var(--disabled-bg-color);\n",
              "    fill: var(--disabled-fill-color);\n",
              "    box-shadow: none;\n",
              "  }\n",
              "\n",
              "  .colab-df-spinner {\n",
              "    border: 2px solid var(--fill-color);\n",
              "    border-color: transparent;\n",
              "    border-bottom-color: var(--fill-color);\n",
              "    animation:\n",
              "      spin 1s steps(1) infinite;\n",
              "  }\n",
              "\n",
              "  @keyframes spin {\n",
              "    0% {\n",
              "      border-color: transparent;\n",
              "      border-bottom-color: var(--fill-color);\n",
              "      border-left-color: var(--fill-color);\n",
              "    }\n",
              "    20% {\n",
              "      border-color: transparent;\n",
              "      border-left-color: var(--fill-color);\n",
              "      border-top-color: var(--fill-color);\n",
              "    }\n",
              "    30% {\n",
              "      border-color: transparent;\n",
              "      border-left-color: var(--fill-color);\n",
              "      border-top-color: var(--fill-color);\n",
              "      border-right-color: var(--fill-color);\n",
              "    }\n",
              "    40% {\n",
              "      border-color: transparent;\n",
              "      border-right-color: var(--fill-color);\n",
              "      border-top-color: var(--fill-color);\n",
              "    }\n",
              "    60% {\n",
              "      border-color: transparent;\n",
              "      border-right-color: var(--fill-color);\n",
              "    }\n",
              "    80% {\n",
              "      border-color: transparent;\n",
              "      border-right-color: var(--fill-color);\n",
              "      border-bottom-color: var(--fill-color);\n",
              "    }\n",
              "    90% {\n",
              "      border-color: transparent;\n",
              "      border-bottom-color: var(--fill-color);\n",
              "    }\n",
              "  }\n",
              "</style>\n",
              "\n",
              "      <script>\n",
              "        async function quickchart(key) {\n",
              "          const quickchartButtonEl =\n",
              "            document.querySelector('#' + key + ' button');\n",
              "          quickchartButtonEl.disabled = true;  // To prevent multiple clicks.\n",
              "          quickchartButtonEl.classList.add('colab-df-spinner');\n",
              "          try {\n",
              "            const charts = await google.colab.kernel.invokeFunction(\n",
              "                'suggestCharts', [key], {});\n",
              "          } catch (error) {\n",
              "            console.error('Error during call to suggestCharts:', error);\n",
              "          }\n",
              "          quickchartButtonEl.classList.remove('colab-df-spinner');\n",
              "          quickchartButtonEl.classList.add('colab-df-quickchart-complete');\n",
              "        }\n",
              "        (() => {\n",
              "          let quickchartButtonEl =\n",
              "            document.querySelector('#df-11e356a9-c87b-48cd-9748-a368162bb8ca button');\n",
              "          quickchartButtonEl.style.display =\n",
              "            google.colab.kernel.accessAllowed ? 'block' : 'none';\n",
              "        })();\n",
              "      </script>\n",
              "    </div>\n",
              "\n",
              "    </div>\n",
              "  </div>\n"
            ],
            "application/vnd.google.colaboratory.intrinsic+json": {
              "type": "dataframe",
              "summary": "{\n  \"name\": \"df\",\n  \"rows\": 8,\n  \"fields\": [\n    {\n      \"column\": \"step\",\n      \"properties\": {\n        \"dtype\": \"number\",\n        \"std\": 3932.5574829908214,\n        \"min\": 1.0,\n        \"max\": 11142.0,\n        \"num_unique_values\": 8,\n        \"samples\": [\n          8.717644947047209,\n          6.0,\n          11142.0\n        ],\n        \"semantic_type\": \"\",\n        \"description\": \"\"\n      }\n    },\n    {\n      \"column\": \"amount\",\n      \"properties\": {\n        \"dtype\": \"number\",\n        \"std\": 3486257.8432316007,\n        \"min\": 2.39,\n        \"max\": 10000000.0,\n        \"num_unique_values\": 8,\n        \"samples\": [\n          213191.4850843655,\n          16761.260000000002,\n          11142.0\n        ],\n        \"semantic_type\": \"\",\n        \"description\": \"\"\n      }\n    },\n    {\n      \"column\": \"oldbalanceOrg\",\n      \"properties\": {\n        \"dtype\": \"number\",\n        \"std\": 6903672.14099961,\n        \"min\": 0.0,\n        \"max\": 19900000.0,\n        \"num_unique_values\": 8,\n        \"samples\": [\n          924117.256368695,\n          28169.5,\n          11142.0\n        ],\n        \"semantic_type\": \"\",\n        \"description\": \"\"\n      }\n    },\n    {\n      \"column\": \"newbalanceOrig\",\n      \"properties\": {\n        \"dtype\": \"number\",\n        \"std\": 4502273.113258245,\n        \"min\": 0.0,\n        \"max\": 13000000.0,\n        \"num_unique_values\": 7,\n        \"samples\": [\n          11142.0,\n          824957.6480865194,\n          111412.63500000001\n        ],\n        \"semantic_type\": \"\",\n        \"description\": \"\"\n      }\n    },\n    {\n      \"column\": \"oldbalanceDest\",\n      \"properties\": {\n        \"dtype\": \"number\",\n        \"std\": 11511529.802601162,\n        \"min\": 0.0,\n        \"max\": 33000000.0,\n        \"num_unique_values\": 6,\n        \"samples\": [\n          11142.0,\n          888354.084351104,\n          33000000.0\n        ],\n        \"semantic_type\": \"\",\n        \"description\": \"\"\n      }\n    },\n    {\n      \"column\": \"newbalanceDest\",\n      \"properties\": {\n        \"dtype\": \"number\",\n        \"std\": 12054034.122565158,\n        \"min\": 0.0,\n        \"max\": 34600000.0,\n        \"num_unique_values\": 6,\n        \"samples\": [\n          11142.0,\n          1103211.4801992462,\n          34600000.0\n        ],\n        \"semantic_type\": \"\",\n        \"description\": \"\"\n      }\n    },\n    {\n      \"column\": \"isFraud\",\n      \"properties\": {\n        \"dtype\": \"number\",\n        \"std\": 3939.2208888903297,\n        \"min\": 0.0,\n        \"max\": 11142.0,\n        \"num_unique_values\": 5,\n        \"samples\": [\n          0.10249506372285047,\n          1.0,\n          0.3033118568547299\n        ],\n        \"semantic_type\": \"\",\n        \"description\": \"\"\n      }\n    }\n  ]\n}"
            }
          },
          "metadata": {},
          "execution_count": 43
        }
      ]
    },
    {
      "cell_type": "markdown",
      "source": [
        "# **Data Cleaning**"
      ],
      "metadata": {
        "id": "JBar6zubRnR7"
      }
    },
    {
      "cell_type": "markdown",
      "source": [
        "## Missing Values Check\n",
        "\n",
        "To ensure data integrity, I checked for any missing values using `isnull().sum()`. It’s important to identify if null handling (e.g., imputation or removal) is required before modeling.\n"
      ],
      "metadata": {
        "id": "vRZ--YRSSYPh"
      }
    },
    {
      "cell_type": "code",
      "source": [
        "# Check for missing values\n",
        "df.isnull().sum()\n"
      ],
      "metadata": {
        "colab": {
          "base_uri": "https://localhost:8080/",
          "height": 397
        },
        "id": "cE1fAPL0SaLt",
        "outputId": "f5de933c-e39f-4ab6-86aa-726ed4fd618b"
      },
      "execution_count": 44,
      "outputs": [
        {
          "output_type": "execute_result",
          "data": {
            "text/plain": [
              "step              0\n",
              "type              0\n",
              "amount            0\n",
              "nameOrig          0\n",
              "oldbalanceOrg     0\n",
              "newbalanceOrig    0\n",
              "nameDest          0\n",
              "oldbalanceDest    0\n",
              "newbalanceDest    0\n",
              "isFraud           0\n",
              "dtype: int64"
            ],
            "text/html": [
              "<div>\n",
              "<style scoped>\n",
              "    .dataframe tbody tr th:only-of-type {\n",
              "        vertical-align: middle;\n",
              "    }\n",
              "\n",
              "    .dataframe tbody tr th {\n",
              "        vertical-align: top;\n",
              "    }\n",
              "\n",
              "    .dataframe thead th {\n",
              "        text-align: right;\n",
              "    }\n",
              "</style>\n",
              "<table border=\"1\" class=\"dataframe\">\n",
              "  <thead>\n",
              "    <tr style=\"text-align: right;\">\n",
              "      <th></th>\n",
              "      <th>0</th>\n",
              "    </tr>\n",
              "  </thead>\n",
              "  <tbody>\n",
              "    <tr>\n",
              "      <th>step</th>\n",
              "      <td>0</td>\n",
              "    </tr>\n",
              "    <tr>\n",
              "      <th>type</th>\n",
              "      <td>0</td>\n",
              "    </tr>\n",
              "    <tr>\n",
              "      <th>amount</th>\n",
              "      <td>0</td>\n",
              "    </tr>\n",
              "    <tr>\n",
              "      <th>nameOrig</th>\n",
              "      <td>0</td>\n",
              "    </tr>\n",
              "    <tr>\n",
              "      <th>oldbalanceOrg</th>\n",
              "      <td>0</td>\n",
              "    </tr>\n",
              "    <tr>\n",
              "      <th>newbalanceOrig</th>\n",
              "      <td>0</td>\n",
              "    </tr>\n",
              "    <tr>\n",
              "      <th>nameDest</th>\n",
              "      <td>0</td>\n",
              "    </tr>\n",
              "    <tr>\n",
              "      <th>oldbalanceDest</th>\n",
              "      <td>0</td>\n",
              "    </tr>\n",
              "    <tr>\n",
              "      <th>newbalanceDest</th>\n",
              "      <td>0</td>\n",
              "    </tr>\n",
              "    <tr>\n",
              "      <th>isFraud</th>\n",
              "      <td>0</td>\n",
              "    </tr>\n",
              "  </tbody>\n",
              "</table>\n",
              "</div><br><label><b>dtype:</b> int64</label>"
            ]
          },
          "metadata": {},
          "execution_count": 44
        }
      ]
    },
    {
      "cell_type": "markdown",
      "source": [
        "## Duplicate Row Check\n",
        "\n",
        "I checked for any fully duplicate rows across all columns. If duplicates were found, they would be removed to avoid biasing the model.\n"
      ],
      "metadata": {
        "id": "nmYvf0D7Sr57"
      }
    },
    {
      "cell_type": "code",
      "source": [
        "# Check for duplicates\n",
        "duplicates = df.duplicated().sum()\n",
        "print(f\"Number of duplicate rows: {duplicates}\")\n"
      ],
      "metadata": {
        "colab": {
          "base_uri": "https://localhost:8080/"
        },
        "id": "GL1wDDmxStOd",
        "outputId": "90464f70-973a-46e5-fe18-3b382f0d2aa2"
      },
      "execution_count": 45,
      "outputs": [
        {
          "output_type": "stream",
          "name": "stdout",
          "text": [
            "Number of duplicate rows: 0\n"
          ]
        }
      ]
    },
    {
      "cell_type": "markdown",
      "source": [
        "## Outlier Detection – Transaction Amounts\n",
        "\n",
        "Outliers in transaction amount may heavily influence fraud detection. I visualized the distribution using a boxplot to observe extreme values.\n",
        "\n",
        "These insights help in deciding whether to cap or scale values before training.\n"
      ],
      "metadata": {
        "id": "cgBzqCYIS0fT"
      }
    },
    {
      "cell_type": "code",
      "source": [
        "import matplotlib.pyplot as plt\n",
        "import seaborn as sns\n",
        "\n",
        "# Plot distribution of transaction amounts\n",
        "plt.figure(figsize=(10,5))\n",
        "sns.boxplot(data=df, x='amount')\n",
        "plt.title(\"Boxplot of Transaction Amounts\")\n",
        "plt.xlabel(\"Amount\")\n",
        "plt.grid(True)\n",
        "plt.show()\n"
      ],
      "metadata": {
        "colab": {
          "base_uri": "https://localhost:8080/",
          "height": 487
        },
        "id": "Mb38eHwES1y8",
        "outputId": "752aca0b-f327-4cbb-9056-d327821213c2"
      },
      "execution_count": 46,
      "outputs": [
        {
          "output_type": "display_data",
          "data": {
            "text/plain": [
              "<Figure size 1000x500 with 1 Axes>"
            ],
            "image/png": "[encoded data removed]"
          },
          "metadata": {}
        }
      ]
    },
    {
      "cell_type": "markdown",
      "source": [
        "# **EDA (Post-Data Cleaning)**\n"
      ],
      "metadata": {
        "id": "gkQpFDHtcA-M"
      }
    },
    {
      "cell_type": "markdown",
      "source": [
        "### 🗓️ Engineering `date` Column for Time-Based EDA\n",
        "\n",
        "The dataset lacked a proper timestamp. I converted the `step` column (which represents hours since the beginning of data capture) into a real datetime format, starting from Jan 1, 2023.\n",
        "\n",
        "This enables time-based EDA insights such as daily fraud patterns.\n"
      ],
      "metadata": {
        "id": "i-JkPPUwce1R"
      }
    },
    {
      "cell_type": "code",
      "source": [
        "# Create date column from step for EDA purposes\n",
        "df['date'] = pd.to_datetime(\"2023-01-01\") + pd.to_timedelta(df['step'], unit='h')\n"
      ],
      "metadata": {
        "id": "RFl8VjeOcg_W"
      },
      "execution_count": 47,
      "outputs": []
    },
    {
      "cell_type": "markdown",
      "source": [
        "## 🔍 insight 1: Dataset Overview\n",
        "\n",
        "To understand the raw structure of the data, I began by viewing the dataset shape and a few sample records. This helps confirm what type of data we are working with, and gives a glimpse into values like amount, balances, and fraud labels.\n",
        "--- ---\n",
        "## Business Insight:\n",
        "\n",
        "Helps businesses understand the volume and structure of their transaction logs. Knowing how many transactions and fields exist helps in estimating storage needs, performance requirements, and processing costs.\n",
        "\n"
      ],
      "metadata": {
        "id": "4mXVaQvAnQJA"
      }
    },
    {
      "cell_type": "code",
      "source": [
        "print(\"Shape of dataset:\", df.shape)\n",
        "df.head()\n"
      ],
      "metadata": {
        "colab": {
          "base_uri": "https://localhost:8080/",
          "height": 224
        },
        "id": "muMQXtsmnaVn",
        "outputId": "2b8f302a-6b50-4ece-bc80-e1668fee32b1"
      },
      "execution_count": 48,
      "outputs": [
        {
          "output_type": "stream",
          "name": "stdout",
          "text": [
            "Shape of dataset: (11142, 11)\n"
          ]
        },
        {
          "output_type": "execute_result",
          "data": {
            "text/plain": [
              "   step      type   amount     nameOrig  oldbalanceOrg  newbalanceOrig  \\\n",
              "0     1  TRANSFER    181.0  C1305486145          181.0             0.0   \n",
              "1     1  CASH_OUT    181.0   C840083671          181.0             0.0   \n",
              "2     1  TRANSFER   2806.0  C1420196421         2806.0             0.0   \n",
              "3     1  CASH_OUT   2806.0  C2101527076         2806.0             0.0   \n",
              "4     1  TRANSFER  20128.0   C137533655        20128.0             0.0   \n",
              "\n",
              "      nameDest  oldbalanceDest  newbalanceDest  isFraud                date  \n",
              "0   C553264065             0.0             0.0        1 2023-01-01 01:00:00  \n",
              "1    C38997010         21182.0             0.0        1 2023-01-01 01:00:00  \n",
              "2   C972765878             0.0             0.0        1 2023-01-01 01:00:00  \n",
              "3  C1007251739         26202.0             0.0        1 2023-01-01 01:00:00  \n",
              "4  C1848415041             0.0             0.0        1 2023-01-01 01:00:00  "
            ],
            "text/html": [
              "\n",
              "  <div id=\"df-224f34f6-314c-476b-a534-a80baefba9b4\" class=\"colab-df-container\">\n",
              "    <div>\n",
              "<style scoped>\n",
              "    .dataframe tbody tr th:only-of-type {\n",
              "        vertical-align: middle;\n",
              "    }\n",
              "\n",
              "    .dataframe tbody tr th {\n",
              "        vertical-align: top;\n",
              "    }\n",
              "\n",
              "    .dataframe thead th {\n",
              "        text-align: right;\n",
              "    }\n",
              "</style>\n",
              "<table border=\"1\" class=\"dataframe\">\n",
              "  <thead>\n",
              "    <tr style=\"text-align: right;\">\n",
              "      <th></th>\n",
              "      <th>step</th>\n",
              "      <th>type</th>\n",
              "      <th>amount</th>\n",
              "      <th>nameOrig</th>\n",
              "      <th>oldbalanceOrg</th>\n",
              "      <th>newbalanceOrig</th>\n",
              "      <th>nameDest</th>\n",
              "      <th>oldbalanceDest</th>\n",
              "      <th>newbalanceDest</th>\n",
              "      <th>isFraud</th>\n",
              "      <th>date</th>\n",
              "    </tr>\n",
              "  </thead>\n",
              "  <tbody>\n",
              "    <tr>\n",
              "      <th>0</th>\n",
              "      <td>1</td>\n",
              "      <td>TRANSFER</td>\n",
              "      <td>181.0</td>\n",
              "      <td>C1305486145</td>\n",
              "      <td>181.0</td>\n",
              "      <td>0.0</td>\n",
              "      <td>C553264065</td>\n",
              "      <td>0.0</td>\n",
              "      <td>0.0</td>\n",
              "      <td>1</td>\n",
              "      <td>2023-01-01 01:00:00</td>\n",
              "    </tr>\n",
              "    <tr>\n",
              "      <th>1</th>\n",
              "      <td>1</td>\n",
              "      <td>CASH_OUT</td>\n",
              "      <td>181.0</td>\n",
              "      <td>C840083671</td>\n",
              "      <td>181.0</td>\n",
              "      <td>0.0</td>\n",
              "      <td>C38997010</td>\n",
              "      <td>21182.0</td>\n",
              "      <td>0.0</td>\n",
              "      <td>1</td>\n",
              "      <td>2023-01-01 01:00:00</td>\n",
              "    </tr>\n",
              "    <tr>\n",
              "      <th>2</th>\n",
              "      <td>1</td>\n",
              "      <td>TRANSFER</td>\n",
              "      <td>2806.0</td>\n",
              "      <td>C1420196421</td>\n",
              "      <td>2806.0</td>\n",
              "      <td>0.0</td>\n",
              "      <td>C972765878</td>\n",
              "      <td>0.0</td>\n",
              "      <td>0.0</td>\n",
              "      <td>1</td>\n",
              "      <td>2023-01-01 01:00:00</td>\n",
              "    </tr>\n",
              "    <tr>\n",
              "      <th>3</th>\n",
              "      <td>1</td>\n",
              "      <td>CASH_OUT</td>\n",
              "      <td>2806.0</td>\n",
              "      <td>C2101527076</td>\n",
              "      <td>2806.0</td>\n",
              "      <td>0.0</td>\n",
              "      <td>C1007251739</td>\n",
              "      <td>26202.0</td>\n",
              "      <td>0.0</td>\n",
              "      <td>1</td>\n",
              "      <td>2023-01-01 01:00:00</td>\n",
              "    </tr>\n",
              "    <tr>\n",
              "      <th>4</th>\n",
              "      <td>1</td>\n",
              "      <td>TRANSFER</td>\n",
              "      <td>20128.0</td>\n",
              "      <td>C137533655</td>\n",
              "      <td>20128.0</td>\n",
              "      <td>0.0</td>\n",
              "      <td>C1848415041</td>\n",
              "      <td>0.0</td>\n",
              "      <td>0.0</td>\n",
              "      <td>1</td>\n",
              "      <td>2023-01-01 01:00:00</td>\n",
              "    </tr>\n",
              "  </tbody>\n",
              "</table>\n",
              "</div>\n",
              "    <div class=\"colab-df-buttons\">\n",
              "\n",
              "  <div class=\"colab-df-container\">\n",
              "    <button class=\"colab-df-convert\" onclick=\"convertToInteractive('df-224f34f6-314c-476b-a534-a80baefba9b4')\"\n",
              "            title=\"Convert this dataframe to an interactive table.\"\n",
              "            style=\"display:none;\">\n",
              "\n",
              "  <svg xmlns=\"http://www.w3.org/2000/svg\" height=\"24px\" viewBox=\"0 -960 960 960\">\n",
              "    <path d=\"M120-120v-720h720v720H120Zm60-500h600v-160H180v160Zm220 220h160v-160H400v160Zm0 220h160v-160H400v160ZM180-400h160v-160H180v160Zm440 0h160v-160H620v160ZM180-180h160v-160H180v160Zm440 0h160v-160H620v160Z\"/>\n",
              "  </svg>\n",
              "    </button>\n",
              "\n",
              "  <style>\n",
              "    .colab-df-container {\n",
              "      display:flex;\n",
              "      gap: 12px;\n",
              "    }\n",
              "\n",
              "    .colab-df-convert {\n",
              "      background-color: #E8F0FE;\n",
              "      border: none;\n",
              "      border-radius: 50%;\n",
              "      cursor: pointer;\n",
              "      display: none;\n",
              "      fill: #1967D2;\n",
              "      height: 32px;\n",
              "      padding: 0 0 0 0;\n",
              "      width: 32px;\n",
              "    }\n",
              "\n",
              "    .colab-df-convert:hover {\n",
              "      background-color: #E2EBFA;\n",
              "      box-shadow: 0px 1px 2px rgba(60, 64, 67, 0.3), 0px 1px 3px 1px rgba(60, 64, 67, 0.15);\n",
              "      fill: #174EA6;\n",
              "    }\n",
              "\n",
              "    .colab-df-buttons div {\n",
              "      margin-bottom: 4px;\n",
              "    }\n",
              "\n",
              "    [theme=dark] .colab-df-convert {\n",
              "      background-color: #3B4455;\n",
              "      fill: #D2E3FC;\n",
              "    }\n",
              "\n",
              "    [theme=dark] .colab-df-convert:hover {\n",
              "      background-color: #434B5C;\n",
              "      box-shadow: 0px 1px 3px 1px rgba(0, 0, 0, 0.15);\n",
              "      filter: drop-shadow(0px 1px 2px rgba(0, 0, 0, 0.3));\n",
              "      fill: #FFFFFF;\n",
              "    }\n",
              "  </style>\n",
              "\n",
              "    <script>\n",
              "      const buttonEl =\n",
              "        document.querySelector('#df-224f34f6-314c-476b-a534-a80baefba9b4 button.colab-df-convert');\n",
              "      buttonEl.style.display =\n",
              "        google.colab.kernel.accessAllowed ? 'block' : 'none';\n",
              "\n",
              "      async function convertToInteractive(key) {\n",
              "        const element = document.querySelector('#df-224f34f6-314c-476b-a534-a80baefba9b4');\n",
              "        const dataTable =\n",
              "          await google.colab.kernel.invokeFunction('convertToInteractive',\n",
              "                                                    [key], {});\n",
              "        if (!dataTable) return;\n",
              "\n",
              "        const docLinkHtml = 'Like what you see? Visit the ' +\n",
              "          '<a target=\"_blank\" href=https://colab.research.google.com/notebooks/data_table.ipynb>data table notebook</a>'\n",
              "          + ' to learn more about interactive tables.';\n",
              "        element.innerHTML = '';\n",
              "        dataTable['output_type'] = 'display_data';\n",
              "        await google.colab.output.renderOutput(dataTable, element);\n",
              "        const docLink = document.createElement('div');\n",
              "        docLink.innerHTML = docLinkHtml;\n",
              "        element.appendChild(docLink);\n",
              "      }\n",
              "    </script>\n",
              "  </div>\n",
              "\n",
              "\n",
              "    <div id=\"df-ed1da2e5-336a-4af6-8515-4b82e21c1d1c\">\n",
              "      <button class=\"colab-df-quickchart\" onclick=\"quickchart('df-ed1da2e5-336a-4af6-8515-4b82e21c1d1c')\"\n",
              "                title=\"Suggest charts\"\n",
              "                style=\"display:none;\">\n",
              "\n",
              "<svg xmlns=\"http://www.w3.org/2000/svg\" height=\"24px\"viewBox=\"0 0 24 24\"\n",
              "     width=\"24px\">\n",
              "    <g>\n",
              "        <path d=\"M19 3H5c-1.1 0-2 .9-2 2v14c0 1.1.9 2 2 2h14c1.1 0 2-.9 2-2V5c0-1.1-.9-2-2-2zM9 17H7v-7h2v7zm4 0h-2V7h2v10zm4 0h-2v-4h2v4z\"/>\n",
              "    </g>\n",
              "</svg>\n",
              "      </button>\n",
              "\n",
              "<style>\n",
              "  .colab-df-quickchart {\n",
              "      --bg-color: #E8F0FE;\n",
              "      --fill-color: #1967D2;\n",
              "      --hover-bg-color: #E2EBFA;\n",
              "      --hover-fill-color: #174EA6;\n",
              "      --disabled-fill-color: #AAA;\n",
              "      --disabled-bg-color: #DDD;\n",
              "  }\n",
              "\n",
              "  [theme=dark] .colab-df-quickchart {\n",
              "      --bg-color: #3B4455;\n",
              "      --fill-color: #D2E3FC;\n",
              "      --hover-bg-color: #434B5C;\n",
              "      --hover-fill-color: #FFFFFF;\n",
              "      --disabled-bg-color: #3B4455;\n",
              "      --disabled-fill-color: #666;\n",
              "  }\n",
              "\n",
              "  .colab-df-quickchart {\n",
              "    background-color: var(--bg-color);\n",
              "    border: none;\n",
              "    border-radius: 50%;\n",
              "    cursor: pointer;\n",
              "    display: none;\n",
              "    fill: var(--fill-color);\n",
              "    height: 32px;\n",
              "    padding: 0;\n",
              "    width: 32px;\n",
              "  }\n",
              "\n",
              "  .colab-df-quickchart:hover {\n",
              "    background-color: var(--hover-bg-color);\n",
              "    box-shadow: 0 1px 2px rgba(60, 64, 67, 0.3), 0 1px 3px 1px rgba(60, 64, 67, 0.15);\n",
              "    fill: var(--button-hover-fill-color);\n",
              "  }\n",
              "\n",
              "  .colab-df-quickchart-complete:disabled,\n",
              "  .colab-df-quickchart-complete:disabled:hover {\n",
              "    background-color: var(--disabled-bg-color);\n",
              "    fill: var(--disabled-fill-color);\n",
              "    box-shadow: none;\n",
              "  }\n",
              "\n",
              "  .colab-df-spinner {\n",
              "    border: 2px solid var(--fill-color);\n",
              "    border-color: transparent;\n",
              "    border-bottom-color: var(--fill-color);\n",
              "    animation:\n",
              "      spin 1s steps(1) infinite;\n",
              "  }\n",
              "\n",
              "  @keyframes spin {\n",
              "    0% {\n",
              "      border-color: transparent;\n",
              "      border-bottom-color: var(--fill-color);\n",
              "      border-left-color: var(--fill-color);\n",
              "    }\n",
              "    20% {\n",
              "      border-color: transparent;\n",
              "      border-left-color: var(--fill-color);\n",
              "      border-top-color: var(--fill-color);\n",
              "    }\n",
              "    30% {\n",
              "      border-color: transparent;\n",
              "      border-left-color: var(--fill-color);\n",
              "      border-top-color: var(--fill-color);\n",
              "      border-right-color: var(--fill-color);\n",
              "    }\n",
              "    40% {\n",
              "      border-color: transparent;\n",
              "      border-right-color: var(--fill-color);\n",
              "      border-top-color: var(--fill-color);\n",
              "    }\n",
              "    60% {\n",
              "      border-color: transparent;\n",
              "      border-right-color: var(--fill-color);\n",
              "    }\n",
              "    80% {\n",
              "      border-color: transparent;\n",
              "      border-right-color: var(--fill-color);\n",
              "      border-bottom-color: var(--fill-color);\n",
              "    }\n",
              "    90% {\n",
              "      border-color: transparent;\n",
              "      border-bottom-color: var(--fill-color);\n",
              "    }\n",
              "  }\n",
              "</style>\n",
              "\n",
              "      <script>\n",
              "        async function quickchart(key) {\n",
              "          const quickchartButtonEl =\n",
              "            document.querySelector('#' + key + ' button');\n",
              "          quickchartButtonEl.disabled = true;  // To prevent multiple clicks.\n",
              "          quickchartButtonEl.classList.add('colab-df-spinner');\n",
              "          try {\n",
              "            const charts = await google.colab.kernel.invokeFunction(\n",
              "                'suggestCharts', [key], {});\n",
              "          } catch (error) {\n",
              "            console.error('Error during call to suggestCharts:', error);\n",
              "          }\n",
              "          quickchartButtonEl.classList.remove('colab-df-spinner');\n",
              "          quickchartButtonEl.classList.add('colab-df-quickchart-complete');\n",
              "        }\n",
              "        (() => {\n",
              "          let quickchartButtonEl =\n",
              "            document.querySelector('#df-ed1da2e5-336a-4af6-8515-4b82e21c1d1c button');\n",
              "          quickchartButtonEl.style.display =\n",
              "            google.colab.kernel.accessAllowed ? 'block' : 'none';\n",
              "        })();\n",
              "      </script>\n",
              "    </div>\n",
              "\n",
              "    </div>\n",
              "  </div>\n"
            ],
            "application/vnd.google.colaboratory.intrinsic+json": {
              "type": "dataframe",
              "variable_name": "df",
              "summary": "{\n  \"name\": \"df\",\n  \"rows\": 11142,\n  \"fields\": [\n    {\n      \"column\": \"step\",\n      \"properties\": {\n        \"dtype\": \"number\",\n        \"std\": 16,\n        \"min\": 1,\n        \"max\": 95,\n        \"num_unique_values\": 95,\n        \"samples\": [\n          69,\n          23,\n          73\n        ],\n        \"semantic_type\": \"\",\n        \"description\": \"\"\n      }\n    },\n    {\n      \"column\": \"type\",\n      \"properties\": {\n        \"dtype\": \"category\",\n        \"num_unique_values\": 5,\n        \"samples\": [\n          \"CASH_OUT\",\n          \"CASH_IN\",\n          \"PAYMENT\"\n        ],\n        \"semantic_type\": \"\",\n        \"description\": \"\"\n      }\n    },\n    {\n      \"column\": \"amount\",\n      \"properties\": {\n        \"dtype\": \"number\",\n        \"std\": 760065.0076729241,\n        \"min\": 2.39,\n        \"max\": 10000000.0,\n        \"num_unique_values\": 10565,\n        \"samples\": [\n          235419.91,\n          108019.99,\n          9381.55\n        ],\n        \"semantic_type\": \"\",\n        \"description\": \"\"\n      }\n    },\n    {\n      \"column\": \"nameOrig\",\n      \"properties\": {\n        \"dtype\": \"string\",\n        \"num_unique_values\": 11142,\n        \"samples\": [\n          \"C190182839\",\n          \"C866414395\",\n          \"C998101363\"\n        ],\n        \"semantic_type\": \"\",\n        \"description\": \"\"\n      }\n    },\n    {\n      \"column\": \"oldbalanceOrg\",\n      \"properties\": {\n        \"dtype\": \"number\",\n        \"std\": 2143004.314181854,\n        \"min\": 0.0,\n        \"max\": 19900000.0,\n        \"num_unique_values\": 7806,\n        \"samples\": [\n          23701.0,\n          138608.86,\n          1853.0\n        ],\n        \"semantic_type\": \"\",\n        \"description\": \"\"\n      }\n    },\n    {\n      \"column\": \"newbalanceOrig\",\n      \"properties\": {\n        \"dtype\": \"number\",\n        \"std\": 2089894.1740431988,\n        \"min\": 0.0,\n        \"max\": 13000000.0,\n        \"num_unique_values\": 5914,\n        \"samples\": [\n          15475.09,\n          4713.51,\n          3453300.52\n        ],\n        \"semantic_type\": \"\",\n        \"description\": \"\"\n      }\n    },\n    {\n      \"column\": \"nameDest\",\n      \"properties\": {\n        \"dtype\": \"string\",\n        \"num_unique_values\": 7508,\n        \"samples\": [\n          \"M456228477\",\n          \"M1868532012\",\n          \"C399685190\"\n        ],\n        \"semantic_type\": \"\",\n        \"description\": \"\"\n      }\n    },\n    {\n      \"column\": \"oldbalanceDest\",\n      \"properties\": {\n        \"dtype\": \"number\",\n        \"std\": 2601375.850520785,\n        \"min\": 0.0,\n        \"max\": 33000000.0,\n        \"num_unique_values\": 4531,\n        \"samples\": [\n          4450740.26,\n          48749.55,\n          420710.0\n        ],\n        \"semantic_type\": \"\",\n        \"description\": \"\"\n      }\n    },\n    {\n      \"column\": \"newbalanceDest\",\n      \"properties\": {\n        \"dtype\": \"number\",\n        \"std\": 2982447.121574567,\n        \"min\": 0.0,\n        \"max\": 34600000.0,\n        \"num_unique_values\": 2030,\n        \"samples\": [\n          3382000.83,\n          411058.34,\n          36054.62\n        ],\n        \"semantic_type\": \"\",\n        \"description\": \"\"\n      }\n    },\n    {\n      \"column\": \"isFraud\",\n      \"properties\": {\n        \"dtype\": \"number\",\n        \"std\": 0,\n        \"min\": 0,\n        \"max\": 1,\n        \"num_unique_values\": 2,\n        \"samples\": [\n          0,\n          1\n        ],\n        \"semantic_type\": \"\",\n        \"description\": \"\"\n      }\n    },\n    {\n      \"column\": \"date\",\n      \"properties\": {\n        \"dtype\": \"date\",\n        \"min\": \"2023-01-01 01:00:00\",\n        \"max\": \"2023-01-04 23:00:00\",\n        \"num_unique_values\": 95,\n        \"samples\": [\n          \"2023-01-03 21:00:00\",\n          \"2023-01-01 23:00:00\"\n        ],\n        \"semantic_type\": \"\",\n        \"description\": \"\"\n      }\n    }\n  ]\n}"
            }
          },
          "metadata": {},
          "execution_count": 48
        }
      ]
    },
    {
      "cell_type": "markdown",
      "source": [
        "## 🔍 insight 2 : Data Types and Unique Values\n",
        "\n",
        "I inspected the column types and unique value counts. This helps identify categorical features (like `type`) to be encoded later, and high-cardinality fields (like `nameOrig`, `nameDest`) which will be dropped before model training due to their non-predictive nature.\n",
        "--- ---\n",
        "## Business Insight:\n",
        "\n",
        "Shows how diverse the data is and which fields may hold key patterns. For example, the type field is categorical and reveals different transaction modes, which may behave differently in terms of fraud risk.\n"
      ],
      "metadata": {
        "id": "06cFdL-Tt2Hi"
      }
    },
    {
      "cell_type": "code",
      "source": [
        "df.dtypes\n",
        "df.nunique()\n"
      ],
      "metadata": {
        "colab": {
          "base_uri": "https://localhost:8080/",
          "height": 429
        },
        "id": "A_de9fTPwL2_",
        "outputId": "db98551e-126b-4eb3-dba2-a6ee1cbe8bce"
      },
      "execution_count": 49,
      "outputs": [
        {
          "output_type": "execute_result",
          "data": {
            "text/plain": [
              "step                 95\n",
              "type                  5\n",
              "amount            10565\n",
              "nameOrig          11142\n",
              "oldbalanceOrg      7806\n",
              "newbalanceOrig     5914\n",
              "nameDest           7508\n",
              "oldbalanceDest     4531\n",
              "newbalanceDest     2030\n",
              "isFraud               2\n",
              "date                 95\n",
              "dtype: int64"
            ],
            "text/html": [
              "<div>\n",
              "<style scoped>\n",
              "    .dataframe tbody tr th:only-of-type {\n",
              "        vertical-align: middle;\n",
              "    }\n",
              "\n",
              "    .dataframe tbody tr th {\n",
              "        vertical-align: top;\n",
              "    }\n",
              "\n",
              "    .dataframe thead th {\n",
              "        text-align: right;\n",
              "    }\n",
              "</style>\n",
              "<table border=\"1\" class=\"dataframe\">\n",
              "  <thead>\n",
              "    <tr style=\"text-align: right;\">\n",
              "      <th></th>\n",
              "      <th>0</th>\n",
              "    </tr>\n",
              "  </thead>\n",
              "  <tbody>\n",
              "    <tr>\n",
              "      <th>step</th>\n",
              "      <td>95</td>\n",
              "    </tr>\n",
              "    <tr>\n",
              "      <th>type</th>\n",
              "      <td>5</td>\n",
              "    </tr>\n",
              "    <tr>\n",
              "      <th>amount</th>\n",
              "      <td>10565</td>\n",
              "    </tr>\n",
              "    <tr>\n",
              "      <th>nameOrig</th>\n",
              "      <td>11142</td>\n",
              "    </tr>\n",
              "    <tr>\n",
              "      <th>oldbalanceOrg</th>\n",
              "      <td>7806</td>\n",
              "    </tr>\n",
              "    <tr>\n",
              "      <th>newbalanceOrig</th>\n",
              "      <td>5914</td>\n",
              "    </tr>\n",
              "    <tr>\n",
              "      <th>nameDest</th>\n",
              "      <td>7508</td>\n",
              "    </tr>\n",
              "    <tr>\n",
              "      <th>oldbalanceDest</th>\n",
              "      <td>4531</td>\n",
              "    </tr>\n",
              "    <tr>\n",
              "      <th>newbalanceDest</th>\n",
              "      <td>2030</td>\n",
              "    </tr>\n",
              "    <tr>\n",
              "      <th>isFraud</th>\n",
              "      <td>2</td>\n",
              "    </tr>\n",
              "    <tr>\n",
              "      <th>date</th>\n",
              "      <td>95</td>\n",
              "    </tr>\n",
              "  </tbody>\n",
              "</table>\n",
              "</div><br><label><b>dtype:</b> int64</label>"
            ]
          },
          "metadata": {},
          "execution_count": 49
        }
      ]
    },
    {
      "cell_type": "markdown",
      "source": [
        "## 🔍 Insight 3 : Class Imbalance – Fraud vs Non-Fraud\n",
        "I plotted the distribution of the `isFraud` column to analyze the class balance. Identifying imbalance early helps shape evaluation strategies during modeling.\n",
        "--- ---\n",
        "## Business Insight:\n",
        "\n",
        "Only a small portion of transactions are fraud. This highlights the operational challenge of catching rare events — businesses must invest in sensitive models that minimize false negatives (missed fraud) without flagging too many normal users.\n"
      ],
      "metadata": {
        "id": "wpi9XKz9wZr8"
      }
    },
    {
      "cell_type": "code",
      "source": [
        "df['isFraud'].value_counts(normalize=True).plot(kind='bar', color=['green', 'red'])\n",
        "print(df['isFraud'].value_counts(normalize=True))\n"
      ],
      "metadata": {
        "colab": {
          "base_uri": "https://localhost:8080/",
          "height": 517
        },
        "id": "pQOmEYStwnjY",
        "outputId": "2681adda-13a4-46e0-91a2-ebe3ba9d97c6"
      },
      "execution_count": 50,
      "outputs": [
        {
          "output_type": "stream",
          "name": "stdout",
          "text": [
            "isFraud\n",
            "0    0.897505\n",
            "1    0.102495\n",
            "Name: proportion, dtype: float64\n"
          ]
        },
        {
          "output_type": "display_data",
          "data": {
            "text/plain": [
              "<Figure size 640x480 with 1 Axes>"
            ],
            "image/png": "[encoded data removed]"
          },
          "metadata": {}
        }
      ]
    },
    {
      "cell_type": "markdown",
      "source": [
        "## 🔍 Insight 4 : Fraud Rate by Transaction Type\n",
        "I grouped transactions by their type to understand which categories show higher fraud probability. This provides direct business insight on which transaction paths are riskier.\n",
        "--- ---\n",
        "**Hypothesis**: Fraud is more likely to occur in certain transaction types (e.g., TRANSFER and CASH_OUT) compared to others like PAYMENT or DEBIT.\n",
        "\n",
        "**Observation:**  A disproportionately high number of fraud cases occur in the `TRANSFER` and `CASH_OUT` types, even though these are not the most frequent types overall.\n",
        "\n",
        "## Business Insight:\n",
        "\n",
        "Certain types (like TRANSFER and CASH_OUT) carry much higher fraud risk. Companies can strengthen rules, add OTPs, or increase scrutiny specifically for those transaction modes.\n"
      ],
      "metadata": {
        "id": "GA5ymq94w5C9"
      }
    },
    {
      "cell_type": "code",
      "source": [
        "# Grouping original 'type' column and computing fraud rate per type\n",
        "fraud_by_type = df.groupby('type')['isFraud'].mean().sort_values(ascending=False)\n",
        "\n",
        "import matplotlib.pyplot as plt\n",
        "plt.figure(figsize=(8,4))\n",
        "fraud_by_type.plot(kind='bar', color='crimson')\n",
        "plt.title('Fraud Rate by Transaction Type')\n",
        "plt.ylabel('Fraud Rate')\n",
        "plt.xticks(rotation=45)\n",
        "plt.grid(True)\n",
        "plt.show()\n"
      ],
      "metadata": {
        "colab": {
          "base_uri": "https://localhost:8080/",
          "height": 459
        },
        "id": "DfG3WF6szmwn",
        "outputId": "24eb896c-6699-44bd-8ea4-026f2574aa15"
      },
      "execution_count": 51,
      "outputs": [
        {
          "output_type": "display_data",
          "data": {
            "text/plain": [
              "<Figure size 800x400 with 1 Axes>"
            ],
            "image/png": "[encoded data removed]"
          },
          "metadata": {}
        }
      ]
    },
    {
      "cell_type": "markdown",
      "source": [
        "## 🔍 Insight 5: Distribution of Transaction Amounts\n",
        "\n",
        "To understand spending behavior, I plotted the distribution of transaction amounts. This helps identify whether most transactions are low-value or if outliers exist that could signal fraud.\n",
        "--- ---\n",
        "## Business Insight:\n",
        "\n",
        "Most transactions are low-value, but high-value transactions (which could be fraudulent) are outliers. Business can impose daily limits or create watchlists for unusually high transactions.\n"
      ],
      "metadata": {
        "id": "e7mCACi2zraV"
      }
    },
    {
      "cell_type": "code",
      "source": [
        "import seaborn as sns\n",
        "\n",
        "plt.figure(figsize=(10,5))\n",
        "sns.histplot(df['amount'], bins=100, kde=True, color='teal')\n",
        "plt.title('Transaction Amount Distribution')\n",
        "plt.xlabel('Amount')\n",
        "plt.grid(True)\n",
        "plt.tight_layout()\n",
        "plt.show()\n"
      ],
      "metadata": {
        "colab": {
          "base_uri": "https://localhost:8080/",
          "height": 507
        },
        "id": "PweImJSu1PmX",
        "outputId": "74409349-1db9-44f9-90b1-eecfca8190cc"
      },
      "execution_count": 52,
      "outputs": [
        {
          "output_type": "display_data",
          "data": {
            "text/plain": [
              "<Figure size 1000x500 with 1 Axes>"
            ],
            "image/png": "[encoded data removed]"
          },
          "metadata": {}
        }
      ]
    },
    {
      "cell_type": "markdown",
      "source": [
        "## 🔍 Insight 6: Daily Fraud Transaction Trend\n",
        "Using the engineered `date` column (derived from the `step` feature), I analyzed how fraud is distributed over calendar days. Sudden spikes or dips may indicate vulnerable periods or system loopholes.\n",
        "--- ---\n",
        "**Hypothesis:** Fraud incidents follow a time-based pattern and may spike around weekends, month-end, or early mornings.\n",
        "\n",
        "**Observation:** There are visible spikes in fraud transactions on certain dates and time periods, suggesting coordinated fraudulent activity.\n",
        "## Business Insight:\n",
        "\n",
        "Fraud spikes on specific dates. These may correlate with payday periods, holidays, or known vulnerabilities. Companies can proactively scale fraud monitoring teams/resources around such spikes.\n"
      ],
      "metadata": {
        "id": "TWcVK5vn1VeH"
      }
    },
    {
      "cell_type": "code",
      "source": [
        "# Filter for fraudulent transactions and count per day\n",
        "fraud_trend = df[df['isFraud'] == 1].groupby(df['date'].dt.date).size()\n",
        "\n",
        "plt.figure(figsize=(12,5))\n",
        "fraud_trend.plot(marker='o', linestyle='-', color='darkorange')\n",
        "plt.title('📆 Daily Fraud Transaction Trend')\n",
        "plt.xlabel('Date')\n",
        "plt.ylabel('Number of Fraud Transactions')\n",
        "plt.xticks(rotation=45)\n",
        "plt.grid(True)\n",
        "plt.tight_layout()\n",
        "plt.show()\n"
      ],
      "metadata": {
        "colab": {
          "base_uri": "https://localhost:8080/",
          "height": 580
        },
        "id": "XSytKEP91eF_",
        "outputId": "04cdb929-870a-4570-b591-efadb3dfe972"
      },
      "execution_count": 53,
      "outputs": [
        {
          "output_type": "stream",
          "name": "stderr",
          "text": [
            "/tmp/ipython-input-2746015917.py:11: UserWarning: Glyph 128198 (\\N{TEAR-OFF CALENDAR}) missing from font(s) DejaVu Sans.\n",
            "  plt.tight_layout()\n",
            "/usr/local/lib/python3.11/dist-packages/IPython/core/pylabtools.py:151: UserWarning: Glyph 128198 (\\N{TEAR-OFF CALENDAR}) missing from font(s) DejaVu Sans.\n",
            "  fig.canvas.print_figure(bytes_io, **kw)\n"
          ]
        },
        {
          "output_type": "display_data",
          "data": {
            "text/plain": [
              "<Figure size 1200x500 with 1 Axes>"
            ],
            "image/png": "[encoded data removed]"
          },
          "metadata": {}
        }
      ]
    },
    {
      "cell_type": "markdown",
      "source": [
        "## 🔍 Insight 7: Distribution of Engineered Delta Features\n",
        "\n",
        "The `deltaOrig` and `deltaDest` features reflect mismatch in expected balance updates. I visualized their distributions to detect unusual behaviors that may correlate with fraud.\n",
        "--- ---\n",
        "## Business Insight:\n",
        "\n",
        "Irregular balance changes — even if transaction type looks valid — suggest potential fraud. These engineered features help detect cases where balances are manipulated or inconsistent with expected accounting.\n"
      ],
      "metadata": {
        "id": "CPoPboyD1jFz"
      }
    },
    {
      "cell_type": "code",
      "source": [
        "# If not already created, generate delta features\n",
        "df['deltaOrig'] = df['oldbalanceOrg'] - df['newbalanceOrig'] - df['amount']\n",
        "df['deltaDest'] = df['newbalanceDest'] - df['oldbalanceDest'] - df['amount']\n",
        "\n",
        "plt.figure(figsize=(12, 4))\n",
        "\n",
        "plt.subplot(1, 2, 1)\n",
        "sns.histplot(df['deltaOrig'], bins=50, kde=True, color='skyblue')\n",
        "plt.title('Distribution of deltaOrig')\n",
        "\n",
        "plt.subplot(1, 2, 2)\n",
        "sns.histplot(df['deltaDest'], bins=50, kde=True, color='orange')\n",
        "plt.title('Distribution of deltaDest')\n",
        "\n",
        "plt.tight_layout()\n",
        "plt.show()\n"
      ],
      "metadata": {
        "colab": {
          "base_uri": "https://localhost:8080/",
          "height": 407
        },
        "id": "3VzDJW151oit",
        "outputId": "75202af0-7689-4ffb-f042-4cefd41311d6"
      },
      "execution_count": 54,
      "outputs": [
        {
          "output_type": "display_data",
          "data": {
            "text/plain": [
              "<Figure size 1200x400 with 2 Axes>"
            ],
            "image/png": "[encoded data removed]"
          },
          "metadata": {}
        }
      ]
    },
    {
      "cell_type": "markdown",
      "source": [
        "## EDA Summary : How EDA Informs Business Decisions\n",
        "\n",
        "This EDA phase provided key fraud indicators based on transaction type, time trends, and balance behavior.\n",
        "\n",
        "From a business perspective:\n",
        "- Fraud-prone transaction types can be more closely monitored\n",
        "- Daily patterns can guide staffing and real-time alerting\n",
        "- Balance deltas reveal potential fund manipulation\n",
        "\n",
        "These findings help build a targeted fraud detection strategy, not just a generalized one.\n",
        "\n",
        "\n",
        "Key findings from post-cleaning EDA:\n",
        "- Fraud is concentrated in specific transaction types (TRANSFER, CASH_OUT)\n",
        "- Most transactions are low-value, but outliers exist and may signal risk\n",
        "- Fraud spikes on specific calendar days\n",
        "- Engineered delta features expose balance inconsistencies in fraud cases\n",
        "\n",
        "These insights will directly influence feature selection and model design.\n"
      ],
      "metadata": {
        "id": "sgaE5o192Bdw"
      }
    },
    {
      "cell_type": "markdown",
      "source": [
        "#  **Feature Engineering**"
      ],
      "metadata": {
        "id": "ul3ScRWZ8yt-"
      }
    },
    {
      "cell_type": "markdown",
      "source": [
        "## Dropping Non-Predictive Columns\n",
        "\n",
        "The columns `nameOrig` and `nameDest` contain unique identifiers (like account IDs). These are not useful for prediction and may introduce noise or overfitting, so I removed them.\n"
      ],
      "metadata": {
        "id": "XlWIaDoM9ecq"
      }
    },
    {
      "cell_type": "code",
      "source": [
        "# Drop non-predictive identifier columns\n",
        "df.drop(['nameOrig', 'nameDest'], axis=1, inplace=True)\n"
      ],
      "metadata": {
        "id": "2qYd-Wjz9lVP"
      },
      "execution_count": 55,
      "outputs": []
    },
    {
      "cell_type": "markdown",
      "source": [
        "##Engineering `deltaOrig` and `deltaDest`\n",
        "\n",
        "These features reflect how closely the sender's and receiver's balances align with the transferred amount. Fraudsters often manipulate balances, and these mismatches help capture that.\n"
      ],
      "metadata": {
        "id": "VR-mmbAT9pJb"
      }
    },
    {
      "cell_type": "code",
      "source": [
        "# Create delta features\n",
        "if 'deltaOrig' not in df.columns:\n",
        "    df['deltaOrig'] = df['oldbalanceOrg'] - df['newbalanceOrig'] - df['amount']\n",
        "\n",
        "if 'deltaDest' not in df.columns:\n",
        "    df['deltaDest'] = df['newbalanceDest'] - df['oldbalanceDest'] - df['amount']\n"
      ],
      "metadata": {
        "id": "BwVL1uL192QD"
      },
      "execution_count": 56,
      "outputs": []
    },
    {
      "cell_type": "markdown",
      "source": [
        "## Encoding Categorical Feature: `type`\n",
        "\n",
        "The `type` column is categorical (e.g., 'TRANSFER', 'CASH_OUT'). I applied one-hot encoding to convert it into binary features for each type.\n"
      ],
      "metadata": {
        "id": "B7d9URLM-Eiv"
      }
    },
    {
      "cell_type": "code",
      "source": [
        "# One-hot encode the 'type' column and remove original\n",
        "df = pd.get_dummies(df, columns=['type'], drop_first=True)\n"
      ],
      "metadata": {
        "id": "vlqHWS3x-KOo"
      },
      "execution_count": 57,
      "outputs": []
    },
    {
      "cell_type": "markdown",
      "source": [
        "## Final Preview of Engineered Dataset\n",
        "\n",
        "Here’s a preview of the dataset after all feature engineering steps. This confirms that identifiers are removed, new features are added, and categorical variables are encoded.\n"
      ],
      "metadata": {
        "id": "XEJ-Kwqf-RO7"
      }
    },
    {
      "cell_type": "code",
      "source": [
        "df.head()"
      ],
      "metadata": {
        "colab": {
          "base_uri": "https://localhost:8080/",
          "height": 399
        },
        "id": "okczGdH1-UQ6",
        "outputId": "d03287cd-287b-4003-ed59-92c05b1b4bc3"
      },
      "execution_count": 58,
      "outputs": [
        {
          "output_type": "execute_result",
          "data": {
            "text/plain": [
              "   step   amount  oldbalanceOrg  newbalanceOrig  oldbalanceDest  \\\n",
              "0     1    181.0          181.0             0.0             0.0   \n",
              "1     1    181.0          181.0             0.0         21182.0   \n",
              "2     1   2806.0         2806.0             0.0             0.0   \n",
              "3     1   2806.0         2806.0             0.0         26202.0   \n",
              "4     1  20128.0        20128.0             0.0             0.0   \n",
              "\n",
              "   newbalanceDest  isFraud                date  deltaOrig  deltaDest  \\\n",
              "0             0.0        1 2023-01-01 01:00:00        0.0     -181.0   \n",
              "1             0.0        1 2023-01-01 01:00:00        0.0   -21363.0   \n",
              "2             0.0        1 2023-01-01 01:00:00        0.0    -2806.0   \n",
              "3             0.0        1 2023-01-01 01:00:00        0.0   -29008.0   \n",
              "4             0.0        1 2023-01-01 01:00:00        0.0   -20128.0   \n",
              "\n",
              "   type_CASH_OUT  type_DEBIT  type_PAYMENT  type_TRANSFER  \n",
              "0          False       False         False           True  \n",
              "1           True       False         False          False  \n",
              "2          False       False         False           True  \n",
              "3           True       False         False          False  \n",
              "4          False       False         False           True  "
            ],
            "text/html": [
              "\n",
              "  <div id=\"df-9f944fa5-0fce-49d3-be0b-723b4421ea95\" class=\"colab-df-container\">\n",
              "    <div>\n",
              "<style scoped>\n",
              "    .dataframe tbody tr th:only-of-type {\n",
              "        vertical-align: middle;\n",
              "    }\n",
              "\n",
              "    .dataframe tbody tr th {\n",
              "        vertical-align: top;\n",
              "    }\n",
              "\n",
              "    .dataframe thead th {\n",
              "        text-align: right;\n",
              "    }\n",
              "</style>\n",
              "<table border=\"1\" class=\"dataframe\">\n",
              "  <thead>\n",
              "    <tr style=\"text-align: right;\">\n",
              "      <th></th>\n",
              "      <th>step</th>\n",
              "      <th>amount</th>\n",
              "      <th>oldbalanceOrg</th>\n",
              "      <th>newbalanceOrig</th>\n",
              "      <th>oldbalanceDest</th>\n",
              "      <th>newbalanceDest</th>\n",
              "      <th>isFraud</th>\n",
              "      <th>date</th>\n",
              "      <th>deltaOrig</th>\n",
              "      <th>deltaDest</th>\n",
              "      <th>type_CASH_OUT</th>\n",
              "      <th>type_DEBIT</th>\n",
              "      <th>type_PAYMENT</th>\n",
              "      <th>type_TRANSFER</th>\n",
              "    </tr>\n",
              "  </thead>\n",
              "  <tbody>\n",
              "    <tr>\n",
              "      <th>0</th>\n",
              "      <td>1</td>\n",
              "      <td>181.0</td>\n",
              "      <td>181.0</td>\n",
              "      <td>0.0</td>\n",
              "      <td>0.0</td>\n",
              "      <td>0.0</td>\n",
              "      <td>1</td>\n",
              "      <td>2023-01-01 01:00:00</td>\n",
              "      <td>0.0</td>\n",
              "      <td>-181.0</td>\n",
              "      <td>False</td>\n",
              "      <td>False</td>\n",
              "      <td>False</td>\n",
              "      <td>True</td>\n",
              "    </tr>\n",
              "    <tr>\n",
              "      <th>1</th>\n",
              "      <td>1</td>\n",
              "      <td>181.0</td>\n",
              "      <td>181.0</td>\n",
              "      <td>0.0</td>\n",
              "      <td>21182.0</td>\n",
              "      <td>0.0</td>\n",
              "      <td>1</td>\n",
              "      <td>2023-01-01 01:00:00</td>\n",
              "      <td>0.0</td>\n",
              "      <td>-21363.0</td>\n",
              "      <td>True</td>\n",
              "      <td>False</td>\n",
              "      <td>False</td>\n",
              "      <td>False</td>\n",
              "    </tr>\n",
              "    <tr>\n",
              "      <th>2</th>\n",
              "      <td>1</td>\n",
              "      <td>2806.0</td>\n",
              "      <td>2806.0</td>\n",
              "      <td>0.0</td>\n",
              "      <td>0.0</td>\n",
              "      <td>0.0</td>\n",
              "      <td>1</td>\n",
              "      <td>2023-01-01 01:00:00</td>\n",
              "      <td>0.0</td>\n",
              "      <td>-2806.0</td>\n",
              "      <td>False</td>\n",
              "      <td>False</td>\n",
              "      <td>False</td>\n",
              "      <td>True</td>\n",
              "    </tr>\n",
              "    <tr>\n",
              "      <th>3</th>\n",
              "      <td>1</td>\n",
              "      <td>2806.0</td>\n",
              "      <td>2806.0</td>\n",
              "      <td>0.0</td>\n",
              "      <td>26202.0</td>\n",
              "      <td>0.0</td>\n",
              "      <td>1</td>\n",
              "      <td>2023-01-01 01:00:00</td>\n",
              "      <td>0.0</td>\n",
              "      <td>-29008.0</td>\n",
              "      <td>True</td>\n",
              "      <td>False</td>\n",
              "      <td>False</td>\n",
              "      <td>False</td>\n",
              "    </tr>\n",
              "    <tr>\n",
              "      <th>4</th>\n",
              "      <td>1</td>\n",
              "      <td>20128.0</td>\n",
              "      <td>20128.0</td>\n",
              "      <td>0.0</td>\n",
              "      <td>0.0</td>\n",
              "      <td>0.0</td>\n",
              "      <td>1</td>\n",
              "      <td>2023-01-01 01:00:00</td>\n",
              "      <td>0.0</td>\n",
              "      <td>-20128.0</td>\n",
              "      <td>False</td>\n",
              "      <td>False</td>\n",
              "      <td>False</td>\n",
              "      <td>True</td>\n",
              "    </tr>\n",
              "  </tbody>\n",
              "</table>\n",
              "</div>\n",
              "    <div class=\"colab-df-buttons\">\n",
              "\n",
              "  <div class=\"colab-df-container\">\n",
              "    <button class=\"colab-df-convert\" onclick=\"convertToInteractive('df-9f944fa5-0fce-49d3-be0b-723b4421ea95')\"\n",
              "            title=\"Convert this dataframe to an interactive table.\"\n",
              "            style=\"display:none;\">\n",
              "\n",
              "  <svg xmlns=\"http://www.w3.org/2000/svg\" height=\"24px\" viewBox=\"0 -960 960 960\">\n",
              "    <path d=\"M120-120v-720h720v720H120Zm60-500h600v-160H180v160Zm220 220h160v-160H400v160Zm0 220h160v-160H400v160ZM180-400h160v-160H180v160Zm440 0h160v-160H620v160ZM180-180h160v-160H180v160Zm440 0h160v-160H620v160Z\"/>\n",
              "  </svg>\n",
              "    </button>\n",
              "\n",
              "  <style>\n",
              "    .colab-df-container {\n",
              "      display:flex;\n",
              "      gap: 12px;\n",
              "    }\n",
              "\n",
              "    .colab-df-convert {\n",
              "      background-color: #E8F0FE;\n",
              "      border: none;\n",
              "      border-radius: 50%;\n",
              "      cursor: pointer;\n",
              "      display: none;\n",
              "      fill: #1967D2;\n",
              "      height: 32px;\n",
              "      padding: 0 0 0 0;\n",
              "      width: 32px;\n",
              "    }\n",
              "\n",
              "    .colab-df-convert:hover {\n",
              "      background-color: #E2EBFA;\n",
              "      box-shadow: 0px 1px 2px rgba(60, 64, 67, 0.3), 0px 1px 3px 1px rgba(60, 64, 67, 0.15);\n",
              "      fill: #174EA6;\n",
              "    }\n",
              "\n",
              "    .colab-df-buttons div {\n",
              "      margin-bottom: 4px;\n",
              "    }\n",
              "\n",
              "    [theme=dark] .colab-df-convert {\n",
              "      background-color: #3B4455;\n",
              "      fill: #D2E3FC;\n",
              "    }\n",
              "\n",
              "    [theme=dark] .colab-df-convert:hover {\n",
              "      background-color: #434B5C;\n",
              "      box-shadow: 0px 1px 3px 1px rgba(0, 0, 0, 0.15);\n",
              "      filter: drop-shadow(0px 1px 2px rgba(0, 0, 0, 0.3));\n",
              "      fill: #FFFFFF;\n",
              "    }\n",
              "  </style>\n",
              "\n",
              "    <script>\n",
              "      const buttonEl =\n",
              "        document.querySelector('#df-9f944fa5-0fce-49d3-be0b-723b4421ea95 button.colab-df-convert');\n",
              "      buttonEl.style.display =\n",
              "        google.colab.kernel.accessAllowed ? 'block' : 'none';\n",
              "\n",
              "      async function convertToInteractive(key) {\n",
              "        const element = document.querySelector('#df-9f944fa5-0fce-49d3-be0b-723b4421ea95');\n",
              "        const dataTable =\n",
              "          await google.colab.kernel.invokeFunction('convertToInteractive',\n",
              "                                                    [key], {});\n",
              "        if (!dataTable) return;\n",
              "\n",
              "        const docLinkHtml = 'Like what you see? Visit the ' +\n",
              "          '<a target=\"_blank\" href=https://colab.research.google.com/notebooks/data_table.ipynb>data table notebook</a>'\n",
              "          + ' to learn more about interactive tables.';\n",
              "        element.innerHTML = '';\n",
              "        dataTable['output_type'] = 'display_data';\n",
              "        await google.colab.output.renderOutput(dataTable, element);\n",
              "        const docLink = document.createElement('div');\n",
              "        docLink.innerHTML = docLinkHtml;\n",
              "        element.appendChild(docLink);\n",
              "      }\n",
              "    </script>\n",
              "  </div>\n",
              "\n",
              "\n",
              "    <div id=\"df-19941efb-2edb-45c7-a3a1-946f4fd24e2f\">\n",
              "      <button class=\"colab-df-quickchart\" onclick=\"quickchart('df-19941efb-2edb-45c7-a3a1-946f4fd24e2f')\"\n",
              "                title=\"Suggest charts\"\n",
              "                style=\"display:none;\">\n",
              "\n",
              "<svg xmlns=\"http://www.w3.org/2000/svg\" height=\"24px\"viewBox=\"0 0 24 24\"\n",
              "     width=\"24px\">\n",
              "    <g>\n",
              "        <path d=\"M19 3H5c-1.1 0-2 .9-2 2v14c0 1.1.9 2 2 2h14c1.1 0 2-.9 2-2V5c0-1.1-.9-2-2-2zM9 17H7v-7h2v7zm4 0h-2V7h2v10zm4 0h-2v-4h2v4z\"/>\n",
              "    </g>\n",
              "</svg>\n",
              "      </button>\n",
              "\n",
              "<style>\n",
              "  .colab-df-quickchart {\n",
              "      --bg-color: #E8F0FE;\n",
              "      --fill-color: #1967D2;\n",
              "      --hover-bg-color: #E2EBFA;\n",
              "      --hover-fill-color: #174EA6;\n",
              "      --disabled-fill-color: #AAA;\n",
              "      --disabled-bg-color: #DDD;\n",
              "  }\n",
              "\n",
              "  [theme=dark] .colab-df-quickchart {\n",
              "      --bg-color: #3B4455;\n",
              "      --fill-color: #D2E3FC;\n",
              "      --hover-bg-color: #434B5C;\n",
              "      --hover-fill-color: #FFFFFF;\n",
              "      --disabled-bg-color: #3B4455;\n",
              "      --disabled-fill-color: #666;\n",
              "  }\n",
              "\n",
              "  .colab-df-quickchart {\n",
              "    background-color: var(--bg-color);\n",
              "    border: none;\n",
              "    border-radius: 50%;\n",
              "    cursor: pointer;\n",
              "    display: none;\n",
              "    fill: var(--fill-color);\n",
              "    height: 32px;\n",
              "    padding: 0;\n",
              "    width: 32px;\n",
              "  }\n",
              "\n",
              "  .colab-df-quickchart:hover {\n",
              "    background-color: var(--hover-bg-color);\n",
              "    box-shadow: 0 1px 2px rgba(60, 64, 67, 0.3), 0 1px 3px 1px rgba(60, 64, 67, 0.15);\n",
              "    fill: var(--button-hover-fill-color);\n",
              "  }\n",
              "\n",
              "  .colab-df-quickchart-complete:disabled,\n",
              "  .colab-df-quickchart-complete:disabled:hover {\n",
              "    background-color: var(--disabled-bg-color);\n",
              "    fill: var(--disabled-fill-color);\n",
              "    box-shadow: none;\n",
              "  }\n",
              "\n",
              "  .colab-df-spinner {\n",
              "    border: 2px solid var(--fill-color);\n",
              "    border-color: transparent;\n",
              "    border-bottom-color: var(--fill-color);\n",
              "    animation:\n",
              "      spin 1s steps(1) infinite;\n",
              "  }\n",
              "\n",
              "  @keyframes spin {\n",
              "    0% {\n",
              "      border-color: transparent;\n",
              "      border-bottom-color: var(--fill-color);\n",
              "      border-left-color: var(--fill-color);\n",
              "    }\n",
              "    20% {\n",
              "      border-color: transparent;\n",
              "      border-left-color: var(--fill-color);\n",
              "      border-top-color: var(--fill-color);\n",
              "    }\n",
              "    30% {\n",
              "      border-color: transparent;\n",
              "      border-left-color: var(--fill-color);\n",
              "      border-top-color: var(--fill-color);\n",
              "      border-right-color: var(--fill-color);\n",
              "    }\n",
              "    40% {\n",
              "      border-color: transparent;\n",
              "      border-right-color: var(--fill-color);\n",
              "      border-top-color: var(--fill-color);\n",
              "    }\n",
              "    60% {\n",
              "      border-color: transparent;\n",
              "      border-right-color: var(--fill-color);\n",
              "    }\n",
              "    80% {\n",
              "      border-color: transparent;\n",
              "      border-right-color: var(--fill-color);\n",
              "      border-bottom-color: var(--fill-color);\n",
              "    }\n",
              "    90% {\n",
              "      border-color: transparent;\n",
              "      border-bottom-color: var(--fill-color);\n",
              "    }\n",
              "  }\n",
              "</style>\n",
              "\n",
              "      <script>\n",
              "        async function quickchart(key) {\n",
              "          const quickchartButtonEl =\n",
              "            document.querySelector('#' + key + ' button');\n",
              "          quickchartButtonEl.disabled = true;  // To prevent multiple clicks.\n",
              "          quickchartButtonEl.classList.add('colab-df-spinner');\n",
              "          try {\n",
              "            const charts = await google.colab.kernel.invokeFunction(\n",
              "                'suggestCharts', [key], {});\n",
              "          } catch (error) {\n",
              "            console.error('Error during call to suggestCharts:', error);\n",
              "          }\n",
              "          quickchartButtonEl.classList.remove('colab-df-spinner');\n",
              "          quickchartButtonEl.classList.add('colab-df-quickchart-complete');\n",
              "        }\n",
              "        (() => {\n",
              "          let quickchartButtonEl =\n",
              "            document.querySelector('#df-19941efb-2edb-45c7-a3a1-946f4fd24e2f button');\n",
              "          quickchartButtonEl.style.display =\n",
              "            google.colab.kernel.accessAllowed ? 'block' : 'none';\n",
              "        })();\n",
              "      </script>\n",
              "    </div>\n",
              "\n",
              "    </div>\n",
              "  </div>\n"
            ],
            "application/vnd.google.colaboratory.intrinsic+json": {
              "type": "dataframe",
              "variable_name": "df",
              "summary": "{\n  \"name\": \"df\",\n  \"rows\": 11142,\n  \"fields\": [\n    {\n      \"column\": \"step\",\n      \"properties\": {\n        \"dtype\": \"number\",\n        \"std\": 16,\n        \"min\": 1,\n        \"max\": 95,\n        \"num_unique_values\": 95,\n        \"samples\": [\n          69,\n          23,\n          73\n        ],\n        \"semantic_type\": \"\",\n        \"description\": \"\"\n      }\n    },\n    {\n      \"column\": \"amount\",\n      \"properties\": {\n        \"dtype\": \"number\",\n        \"std\": 760065.0076729241,\n        \"min\": 2.39,\n        \"max\": 10000000.0,\n        \"num_unique_values\": 10565,\n        \"samples\": [\n          235419.91,\n          108019.99,\n          9381.55\n        ],\n        \"semantic_type\": \"\",\n        \"description\": \"\"\n      }\n    },\n    {\n      \"column\": \"oldbalanceOrg\",\n      \"properties\": {\n        \"dtype\": \"number\",\n        \"std\": 2143004.314181854,\n        \"min\": 0.0,\n        \"max\": 19900000.0,\n        \"num_unique_values\": 7806,\n        \"samples\": [\n          23701.0,\n          138608.86,\n          1853.0\n        ],\n        \"semantic_type\": \"\",\n        \"description\": \"\"\n      }\n    },\n    {\n      \"column\": \"newbalanceOrig\",\n      \"properties\": {\n        \"dtype\": \"number\",\n        \"std\": 2089894.1740431988,\n        \"min\": 0.0,\n        \"max\": 13000000.0,\n        \"num_unique_values\": 5914,\n        \"samples\": [\n          15475.09,\n          4713.51,\n          3453300.52\n        ],\n        \"semantic_type\": \"\",\n        \"description\": \"\"\n      }\n    },\n    {\n      \"column\": \"oldbalanceDest\",\n      \"properties\": {\n        \"dtype\": \"number\",\n        \"std\": 2601375.850520785,\n        \"min\": 0.0,\n        \"max\": 33000000.0,\n        \"num_unique_values\": 4531,\n        \"samples\": [\n          4450740.26,\n          48749.55,\n          420710.0\n        ],\n        \"semantic_type\": \"\",\n        \"description\": \"\"\n      }\n    },\n    {\n      \"column\": \"newbalanceDest\",\n      \"properties\": {\n        \"dtype\": \"number\",\n        \"std\": 2982447.121574567,\n        \"min\": 0.0,\n        \"max\": 34600000.0,\n        \"num_unique_values\": 2030,\n        \"samples\": [\n          3382000.83,\n          411058.34,\n          36054.62\n        ],\n        \"semantic_type\": \"\",\n        \"description\": \"\"\n      }\n    },\n    {\n      \"column\": \"isFraud\",\n      \"properties\": {\n        \"dtype\": \"number\",\n        \"std\": 0,\n        \"min\": 0,\n        \"max\": 1,\n        \"num_unique_values\": 2,\n        \"samples\": [\n          0,\n          1\n        ],\n        \"semantic_type\": \"\",\n        \"description\": \"\"\n      }\n    },\n    {\n      \"column\": \"date\",\n      \"properties\": {\n        \"dtype\": \"date\",\n        \"min\": \"2023-01-01 01:00:00\",\n        \"max\": \"2023-01-04 23:00:00\",\n        \"num_unique_values\": 95,\n        \"samples\": [\n          \"2023-01-03 21:00:00\",\n          \"2023-01-01 23:00:00\"\n        ],\n        \"semantic_type\": \"\",\n        \"description\": \"\"\n      }\n    },\n    {\n      \"column\": \"deltaOrig\",\n      \"properties\": {\n        \"dtype\": \"number\",\n        \"std\": 253962.62474874489,\n        \"min\": -3776389.09,\n        \"max\": 38991.6799999997,\n        \"num_unique_values\": 6438,\n        \"samples\": [\n          -117860.66000000008,\n          -32733.62\n        ],\n        \"semantic_type\": \"\",\n        \"description\": \"\"\n      }\n    },\n    {\n      \"column\": \"deltaDest\",\n      \"properties\": {\n        \"dtype\": \"number\",\n        \"std\": 1080923.936202757,\n        \"min\": -13230407.77,\n        \"max\": 17919963.77,\n        \"num_unique_values\": 10189,\n        \"samples\": [\n          -9250.16,\n          -791707.51\n        ],\n        \"semantic_type\": \"\",\n        \"description\": \"\"\n      }\n    },\n    {\n      \"column\": \"type_CASH_OUT\",\n      \"properties\": {\n        \"dtype\": \"boolean\",\n        \"num_unique_values\": 2,\n        \"samples\": [\n          true,\n          false\n        ],\n        \"semantic_type\": \"\",\n        \"description\": \"\"\n      }\n    },\n    {\n      \"column\": \"type_DEBIT\",\n      \"properties\": {\n        \"dtype\": \"boolean\",\n        \"num_unique_values\": 2,\n        \"samples\": [\n          true,\n          false\n        ],\n        \"semantic_type\": \"\",\n        \"description\": \"\"\n      }\n    },\n    {\n      \"column\": \"type_PAYMENT\",\n      \"properties\": {\n        \"dtype\": \"boolean\",\n        \"num_unique_values\": 2,\n        \"samples\": [\n          true,\n          false\n        ],\n        \"semantic_type\": \"\",\n        \"description\": \"\"\n      }\n    },\n    {\n      \"column\": \"type_TRANSFER\",\n      \"properties\": {\n        \"dtype\": \"boolean\",\n        \"num_unique_values\": 2,\n        \"samples\": [\n          false,\n          true\n        ],\n        \"semantic_type\": \"\",\n        \"description\": \"\"\n      }\n    }\n  ]\n}"
            }
          },
          "metadata": {},
          "execution_count": 58
        }
      ]
    },
    {
      "cell_type": "markdown",
      "source": [
        "## Feature Engineering Summary\n",
        "\n",
        "In this phase, I:\n",
        "- Removed irrelevant high-cardinality columns\n",
        "- Engineered delta features to detect balance mismatches\n",
        "- Encoded categorical transaction type\n",
        "- Retained and cleaned all meaningful numeric predictors\n",
        "\n",
        "This prepares the dataset for train-test splitting and model training.\n",
        "\n",
        "--- ---\n",
        "### Feature Engineering Purpose & Hypothesis\n",
        "\n",
        "**deltaOrig** = Difference between old and new balance for sender  \n",
        "**deltaDest** = Difference between old and new balance for receiver\n",
        "\n",
        "**Hypothesis:** In a legitimate transaction, the balance difference (`delta`) should match the transaction `amount`. If this isn’t true, it could signal fraud, fund reversal, or account manipulation.\n",
        "\n",
        "These engineered features help the model identify imbalance patterns that aren’t obvious in raw balances. They increase model accuracy and reflect actual financial logic, not just statistical features.\n"
      ],
      "metadata": {
        "id": "YokOOtkT-rOj"
      }
    },
    {
      "cell_type": "markdown",
      "source": [
        "## Business Insight:\n",
        "\n",
        "Feature engineering allowed the model to focus on the actual behavior of transactions rather than irrelevant identifiers. By removing `nameOrig` and `nameDest`, I avoided overfitting on unique account IDs.\n",
        "\n",
        "Additionally, engineered features like `deltaOrig` and `deltaDest` help surface unusual balance patterns, which often signal hidden fraud even when the transaction type appears normal. Encoding `type` ensures the model understands categorical transaction modes — critical for detecting patterns in fraud-prone transaction types like TRANSFER or CASH_OUT."
      ],
      "metadata": {
        "id": "ciN4fQNxNvZx"
      }
    },
    {
      "cell_type": "markdown",
      "source": [
        "# **Train-Test Split and Preprocessing Pipeline**"
      ],
      "metadata": {
        "id": "BPC2iPct8aKQ"
      }
    },
    {
      "cell_type": "markdown",
      "source": [
        "## Step 1 : Define Features and Target\n",
        "\n",
        "Along with dropping the target column `isFraud`, I also excluded the `date` column. Since `date` is a datetime type, it’s not suitable for scaling and modeling directly.\n",
        "\n"
      ],
      "metadata": {
        "id": "7K7Dp0JX-aW2"
      }
    },
    {
      "cell_type": "code",
      "source": [
        "# Drop 'date' along with target\n",
        "X = df.drop(['isFraud', 'date'], axis=1)\n",
        "y = df['isFraud']"
      ],
      "metadata": {
        "id": "IfF2iZ-rBgwH"
      },
      "execution_count": 59,
      "outputs": []
    },
    {
      "cell_type": "markdown",
      "source": [
        "## Step 2: Train-Test Split\n",
        "\n",
        "I split the dataset into 80% training and 20% testing sets using stratified sampling. This ensures the fraud-to-non-fraud ratio remains consistent in both sets.\n"
      ],
      "metadata": {
        "id": "3QvH9OK__KNs"
      }
    },
    {
      "cell_type": "code",
      "source": [
        "from sklearn.model_selection import train_test_split\n",
        "\n",
        "# Use stratify to maintain fraud ratio in both sets\n",
        "X_train, X_test, y_train, y_test = train_test_split(\n",
        "    X, y, test_size=0.2, stratify=y, random_state=42\n",
        ")\n",
        "\n",
        "print(f\"Training samples: {X_train.shape[0]}\")\n",
        "print(f\"Testing samples: {X_test.shape[0]}\")\n"
      ],
      "metadata": {
        "colab": {
          "base_uri": "https://localhost:8080/"
        },
        "id": "7wAPV7VACZnU",
        "outputId": "19cb182c-04bf-4595-9685-3952c3b34ef3"
      },
      "execution_count": 60,
      "outputs": [
        {
          "output_type": "stream",
          "name": "stdout",
          "text": [
            "Training samples: 8913\n",
            "Testing samples: 2229\n"
          ]
        }
      ]
    },
    {
      "cell_type": "markdown",
      "source": [
        "## Step 3: Feature Scaling\n",
        "\n",
        "Numerical features like amount and balance vary widely in scale. I standardized them using `StandardScaler` to ensure all features contribute equally to model learning.\n"
      ],
      "metadata": {
        "id": "trft6_Ri_wTR"
      }
    },
    {
      "cell_type": "code",
      "source": [
        "from sklearn.compose import ColumnTransformer\n",
        "from sklearn.preprocessing import StandardScaler, OneHotEncoder\n",
        "\n",
        "# Identify columns\n",
        "categorical_features = ['type']\n",
        "numerical_features = df.select_dtypes(include=['int64', 'float64']).columns.tolist()\n",
        "\n",
        "# Drop target & non-model fields\n",
        "for col in ['isFraud', 'nameOrig', 'nameDest', 'date']:\n",
        "    if col in numerical_features:\n",
        "        numerical_features.remove(col)\n",
        "\n",
        "# Create the preprocessor\n",
        "preprocessor = ColumnTransformer(\n",
        "    transformers=[\n",
        "        ('num', StandardScaler(), numerical_features),\n",
        "        ('cat', OneHotEncoder(handle_unknown='ignore'), categorical_features)\n",
        "    ]\n",
        ")\n"
      ],
      "metadata": {
        "id": "gf39tZ7nAnMU"
      },
      "execution_count": 61,
      "outputs": []
    },
    {
      "cell_type": "code",
      "source": [
        "from sklearn.preprocessing import StandardScaler\n",
        "\n",
        "# Initialize scaler\n",
        "scaler = StandardScaler()\n",
        "\n",
        "# Apply scaling to numeric data\n",
        "X_train_scaled = scaler.fit_transform(X_train)\n",
        "X_test_scaled = scaler.transform(X_test)"
      ],
      "metadata": {
        "id": "t-pxD-2CCmVB"
      },
      "execution_count": 62,
      "outputs": []
    },
    {
      "cell_type": "markdown",
      "source": [
        "## Step 4: Final Check – Scaled Data Shapes\n",
        "\n",
        "After scaling, I verified the shapes of the train and test matrices to ensure everything aligns before model training.\n"
      ],
      "metadata": {
        "id": "EXYECSZuDBi0"
      }
    },
    {
      "cell_type": "code",
      "source": [
        "print(\"X_train shape:\", X_train_scaled.shape)\n",
        "print(\"X_test shape:\", X_test_scaled.shape)"
      ],
      "metadata": {
        "colab": {
          "base_uri": "https://localhost:8080/"
        },
        "id": "a2fxO8wODFwR",
        "outputId": "8c145622-6fa8-443a-bf39-0250435c9ff7"
      },
      "execution_count": 63,
      "outputs": [
        {
          "output_type": "stream",
          "name": "stdout",
          "text": [
            "X_train shape: (8913, 12)\n",
            "X_test shape: (2229, 12)\n"
          ]
        }
      ]
    },
    {
      "cell_type": "markdown",
      "source": [
        "\n",
        " ## Business Insight:\n",
        "\n",
        "Splitting the data using stratification preserved the original fraud ratio, ensuring the model learns realistic fraud patterns. Feature scaling balanced the weight of all numeric inputs — preventing high-value features like `amount` from dominating the learning process.\n",
        "\n",
        "These steps ensure fair evaluation and reproducibility when the model is deployed to detect fraud on real, unseen transaction data.\n",
        "--- ---\n",
        " Preprocessing is now complete. I will proceed with model selection and training using the prepared datasets.\n"
      ],
      "metadata": {
        "id": "UW1ocVJJDVzA"
      }
    },
    {
      "cell_type": "markdown",
      "source": [
        "#  **Model Training and Evaluation**"
      ],
      "metadata": {
        "id": "2jnLKaQUO_pi"
      }
    },
    {
      "cell_type": "markdown",
      "source": [
        "## **Logistic Regression**  \n",
        "**Cross-Validation Setup**\n",
        "\n",
        "Rather than trusting a single train-test split, I applied 5-fold Stratified Cross-Validation.\n",
        "\n",
        "This gives a more **realistic estimate** of how well the model performs across different data slices, especially important in imbalanced fraud detection.\n",
        "\n",
        "I focused on **precision** to see how often the model is correct when it predicts a fraud case.\n"
      ],
      "metadata": {
        "id": "nL9bhc7tVups"
      }
    },
    {
      "cell_type": "markdown",
      "source": [
        "### Step 1: Model Training with Class Imbalance Handling\n",
        "\n",
        "The Logistic Regression model was trained with `class_weight='balanced'` to handle class imbalance and avoid inflated precision values. I used 5-fold Stratified Cross-Validation to evaluate **F1-score**, which better balances precision and recall — more relevant for fraud detection where missing fraud is costly.\n",
        "\n",
        "This setup helps mimic real-world performance where frauds are rare, and models must generalize well.\n"
      ],
      "metadata": {
        "id": "W1LJxGKN7rsZ"
      }
    },
    {
      "cell_type": "code",
      "source": [
        "from sklearn.model_selection import StratifiedKFold, cross_val_score\n",
        "from sklearn.linear_model import LogisticRegression\n",
        "from sklearn.metrics import classification_report, confusion_matrix, roc_auc_score, ConfusionMatrixDisplay, RocCurveDisplay\n",
        "\n",
        "# Initialize model with class_weight\n",
        "lr_model = LogisticRegression(random_state=42, class_weight='balanced')\n",
        "\n",
        "# Stratified 5-fold\n",
        "skf = StratifiedKFold(n_splits=5, shuffle=True, random_state=42)\n",
        "\n",
        "# Evaluate f1-score instead of precision only\n",
        "f1_scores = cross_val_score(lr_model, X_train_scaled, y_train, cv=skf, scoring='f1')\n",
        "print(\"Cross-Validated F1 Scores:\", f1_scores)\n",
        "print(\"Mean F1 Score (5 folds):\", f1_scores.mean())\n",
        "\n",
        "# Train on full data\n",
        "lr_model.fit(X_train_scaled, y_train)\n",
        "y_pred_lr = lr_model.predict(X_test_scaled)\n",
        "y_proba_lr = lr_model.predict_proba(X_test_scaled)[:, 1]\n",
        "\n",
        "# Evaluation\n",
        "print(\"\\nClassification Report:\\n\", classification_report(y_test, y_pred_lr))\n",
        "print(\"Confusion Matrix:\\n\", confusion_matrix(y_test, y_pred_lr))\n",
        "print(\"ROC-AUC Score:\", roc_auc_score(y_test, y_proba_lr))\n"
      ],
      "metadata": {
        "colab": {
          "base_uri": "https://localhost:8080/"
        },
        "id": "4bEe8Oe252Fq",
        "outputId": "04fb8b73-a9cb-4395-dc88-31bdc9f9e25c"
      },
      "execution_count": 64,
      "outputs": [
        {
          "output_type": "stream",
          "name": "stdout",
          "text": [
            "Cross-Validated F1 Scores: [0.89847716 0.89974293 0.9025641  0.89514066 0.88564477]\n",
            "Mean F1 Score (5 folds): 0.8963139248667705\n",
            "\n",
            "Classification Report:\n",
            "               precision    recall  f1-score   support\n",
            "\n",
            "           0       1.00      0.99      0.99      2001\n",
            "           1       0.88      0.96      0.92       228\n",
            "\n",
            "    accuracy                           0.98      2229\n",
            "   macro avg       0.94      0.97      0.96      2229\n",
            "weighted avg       0.98      0.98      0.98      2229\n",
            "\n",
            "Confusion Matrix:\n",
            " [[1971   30]\n",
            " [   8  220]]\n",
            "ROC-AUC Score: 0.9912719079056963\n"
          ]
        }
      ]
    },
    {
      "cell_type": "markdown",
      "source": [
        "### **Step 2: Hold-Out Test Evaluation**\n",
        "\n",
        "After training, the model was tested on unseen data. The classification report below shows key metrics:\n",
        "\n",
        "- **Precision**: How many predicted frauds were truly fraud  \n",
        "- **Recall**: How many actual frauds were caught  \n",
        "- **F1-Score**: Balanced metric to evaluate fraud capture  \n",
        "- **ROC-AUC**: Probability the model distinguishes fraud from non-fraud\n",
        "\n",
        "A confusion matrix and ROC curve are also generated for visual evaluation.\n"
      ],
      "metadata": {
        "id": "9lSRrTVm8Hz1"
      }
    },
    {
      "cell_type": "code",
      "source": [
        "import matplotlib.pyplot as plt\n",
        "\n",
        "# Confusion Matrix\n",
        "disp = ConfusionMatrixDisplay.from_estimator(lr_model, X_test_scaled, y_test, cmap='Blues')\n",
        "disp.ax_.set_title('Confusion Matrix – Logistic Regression')\n",
        "plt.show()\n",
        "\n",
        "# ROC Curve\n",
        "roc_disp = RocCurveDisplay.from_estimator(lr_model, X_test_scaled, y_test)\n",
        "roc_disp.ax_.set_title('ROC Curve – Logistic Regression')\n",
        "plt.show()"
      ],
      "metadata": {
        "colab": {
          "base_uri": "https://localhost:8080/",
          "height": 927
        },
        "id": "GO0IrB7a9RSv",
        "outputId": "6d6a3251-3fe7-4682-d9fc-85c03d1f8f5f"
      },
      "execution_count": 65,
      "outputs": [
        {
          "output_type": "display_data",
          "data": {
            "text/plain": [
              "<Figure size 640x480 with 2 Axes>"
            ],
            "image/png": "[encoded data removed]"
          },
          "metadata": {}
        },
        {
          "output_type": "display_data",
          "data": {
            "text/plain": [
              "<Figure size 640x480 with 1 Axes>"
            ],
            "image/png": "[encoded data removed]"
          },
          "metadata": {}
        }
      ]
    },
    {
      "cell_type": "markdown",
      "source": [
        "## **Random Forest**\n"
      ],
      "metadata": {
        "id": "3wiJPREqHUQt"
      }
    },
    {
      "cell_type": "code",
      "source": [
        "from sklearn.ensemble import RandomForestClassifier\n",
        "from sklearn.model_selection import StratifiedKFold, cross_val_score\n",
        "from sklearn.metrics import classification_report, confusion_matrix, roc_auc_score\n",
        "\n",
        "# Initialize model with max_depth to avoid overfitting\n",
        "rf_model = RandomForestClassifier(n_estimators=100, max_depth=8, class_weight='balanced', random_state=42)\n",
        "\n",
        "# 5-fold Stratified CV\n",
        "skf = StratifiedKFold(n_splits=5, shuffle=True, random_state=42)\n",
        "rf_f1_scores = cross_val_score(rf_model, X_train_scaled, y_train, cv=skf, scoring='f1')\n",
        "\n",
        "print(\"Cross-Validated F1 Scores:\", rf_f1_scores)\n",
        "print(\"Mean F1 Score (5 folds):\", rf_f1_scores.mean())\n",
        "\n",
        "# Train on full data\n",
        "rf_model.fit(X_train_scaled, y_train)\n",
        "y_pred_rf = rf_model.predict(X_test_scaled)\n",
        "y_proba_rf = rf_model.predict_proba(X_test_scaled)[:, 1]\n",
        "\n",
        "# Evaluation\n",
        "print(\"\\nClassification Report:\\n\", classification_report(y_test, y_pred_rf))\n",
        "print(\"Confusion Matrix:\\n\", confusion_matrix(y_test, y_pred_rf))\n",
        "print(\"ROC-AUC Score:\", roc_auc_score(y_test, y_proba_rf))\n"
      ],
      "metadata": {
        "colab": {
          "base_uri": "https://localhost:8080/"
        },
        "id": "NsuCzZ9FHzt2",
        "outputId": "182dc529-79b6-48c1-968b-22d593e9006f"
      },
      "execution_count": 66,
      "outputs": [
        {
          "output_type": "stream",
          "name": "stdout",
          "text": [
            "Cross-Validated F1 Scores: [1.         0.99726027 0.99726027 0.99724518 1.        ]\n",
            "Mean F1 Score (5 folds): 0.9983531454017133\n",
            "\n",
            "Classification Report:\n",
            "               precision    recall  f1-score   support\n",
            "\n",
            "           0       1.00      1.00      1.00      2001\n",
            "           1       1.00      1.00      1.00       228\n",
            "\n",
            "    accuracy                           1.00      2229\n",
            "   macro avg       1.00      1.00      1.00      2229\n",
            "weighted avg       1.00      1.00      1.00      2229\n",
            "\n",
            "Confusion Matrix:\n",
            " [[2001    0]\n",
            " [   1  227]]\n",
            "ROC-AUC Score: 0.9999890405674356\n"
          ]
        }
      ]
    },
    {
      "cell_type": "markdown",
      "source": [
        "### Business Insight:\n",
        "\n",
        "Random Forest showed improved fraud recall with only slight precision reduction, meaning more frauds are caught without excessive false alarms.\n",
        "\n",
        "This is crucial in finance where missing fraud can cause heavy financial losses. This model offers a better balance between protecting users and minimizing disruption for real customers.\n"
      ],
      "metadata": {
        "id": "1ccvW2foIn_o"
      }
    },
    {
      "cell_type": "markdown",
      "source": [
        "## **XGBoost (Tuned)**\n"
      ],
      "metadata": {
        "id": "MmYzWpmlJLPs"
      }
    },
    {
      "cell_type": "code",
      "source": [
        "from xgboost import XGBClassifier\n",
        "from sklearn.model_selection import StratifiedKFold, cross_val_score\n",
        "\n",
        "# Initialize tuned model\n",
        "xgb_model = XGBClassifier(\n",
        "    n_estimators=200,\n",
        "    max_depth=5,\n",
        "    learning_rate=0.1,\n",
        "    subsample=0.8,\n",
        "    colsample_bytree=0.8,\n",
        "    random_state=42,\n",
        "    eval_metric='logloss',\n",
        "    use_label_encoder=False\n",
        ")\n",
        "\n",
        "# Stratified CV for F1-score\n",
        "xgb_f1_scores = cross_val_score(xgb_model, X_train_scaled, y_train, cv=skf, scoring='f1')\n",
        "\n",
        "print(\"Cross-Validated F1 Scores:\", xgb_f1_scores)\n",
        "print(\"Mean F1 Score (5 folds):\", xgb_f1_scores.mean())\n",
        "\n",
        "# Train and evaluate\n",
        "xgb_model.fit(X_train_scaled, y_train)\n",
        "y_pred_xgb = xgb_model.predict(X_test_scaled)\n",
        "y_proba_xgb = xgb_model.predict_proba(X_test_scaled)[:, 1]\n",
        "\n",
        "# Metrics\n",
        "print(\"\\nClassification Report:\\n\", classification_report(y_test, y_pred_xgb))\n",
        "print(\"Confusion Matrix:\\n\", confusion_matrix(y_test, y_pred_xgb))\n",
        "print(\"ROC-AUC Score:\", roc_auc_score(y_test, y_proba_xgb))\n"
      ],
      "metadata": {
        "colab": {
          "base_uri": "https://localhost:8080/"
        },
        "id": "3YIL93EbJSKW",
        "outputId": "2badbd55-10fb-4543-eed3-10da93b662ac"
      },
      "execution_count": 67,
      "outputs": [
        {
          "output_type": "stream",
          "name": "stderr",
          "text": [
            "/usr/local/lib/python3.11/dist-packages/xgboost/training.py:183: UserWarning: [19:52:30] WARNING: /workspace/src/learner.cc:738: \n",
            "Parameters: { \"use_label_encoder\" } are not used.\n",
            "\n",
            "  bst.update(dtrain, iteration=i, fobj=obj)\n",
            "/usr/local/lib/python3.11/dist-packages/xgboost/training.py:183: UserWarning: [19:52:30] WARNING: /workspace/src/learner.cc:738: \n",
            "Parameters: { \"use_label_encoder\" } are not used.\n",
            "\n",
            "  bst.update(dtrain, iteration=i, fobj=obj)\n",
            "/usr/local/lib/python3.11/dist-packages/xgboost/training.py:183: UserWarning: [19:52:31] WARNING: /workspace/src/learner.cc:738: \n",
            "Parameters: { \"use_label_encoder\" } are not used.\n",
            "\n",
            "  bst.update(dtrain, iteration=i, fobj=obj)\n",
            "/usr/local/lib/python3.11/dist-packages/xgboost/training.py:183: UserWarning: [19:52:31] WARNING: /workspace/src/learner.cc:738: \n",
            "Parameters: { \"use_label_encoder\" } are not used.\n",
            "\n",
            "  bst.update(dtrain, iteration=i, fobj=obj)\n",
            "/usr/local/lib/python3.11/dist-packages/xgboost/training.py:183: UserWarning: [19:52:31] WARNING: /workspace/src/learner.cc:738: \n",
            "Parameters: { \"use_label_encoder\" } are not used.\n",
            "\n",
            "  bst.update(dtrain, iteration=i, fobj=obj)\n",
            "/usr/local/lib/python3.11/dist-packages/xgboost/training.py:183: UserWarning: [19:52:31] WARNING: /workspace/src/learner.cc:738: \n",
            "Parameters: { \"use_label_encoder\" } are not used.\n",
            "\n",
            "  bst.update(dtrain, iteration=i, fobj=obj)\n"
          ]
        },
        {
          "output_type": "stream",
          "name": "stdout",
          "text": [
            "Cross-Validated F1 Scores: [1.         0.99450549 0.99726027 1.         1.        ]\n",
            "Mean F1 Score (5 folds): 0.9983531536956194\n",
            "\n",
            "Classification Report:\n",
            "               precision    recall  f1-score   support\n",
            "\n",
            "           0       1.00      1.00      1.00      2001\n",
            "           1       1.00      1.00      1.00       228\n",
            "\n",
            "    accuracy                           1.00      2229\n",
            "   macro avg       1.00      1.00      1.00      2229\n",
            "weighted avg       1.00      1.00      1.00      2229\n",
            "\n",
            "Confusion Matrix:\n",
            " [[2001    0]\n",
            " [   1  227]]\n",
            "ROC-AUC Score: 0.9999956162269743\n"
          ]
        }
      ]
    },
    {
      "cell_type": "markdown",
      "source": [
        "### Model Visualizations\n",
        "\n",
        "These plots communicate the model’s performance and decision logic in a business-friendly way:\n",
        "- Confusion Matrix: True/False classifications\n",
        "- ROC Curve: Model threshold performance\n",
        "- Probability Histogram: Confidence in predictions\n",
        "- Feature Importance: What the model learns from\n"
      ],
      "metadata": {
        "id": "yxfmwbL6VHyu"
      }
    },
    {
      "cell_type": "code",
      "source": [
        "from sklearn.metrics import ConfusionMatrixDisplay\n",
        "\n",
        "ConfusionMatrixDisplay.from_estimator(xgb_model, X_test_scaled, y_test, cmap='Purples')\n",
        "plt.title(\"XGBoost – Confusion Matrix\")\n",
        "plt.show()\n"
      ],
      "metadata": {
        "colab": {
          "base_uri": "https://localhost:8080/",
          "height": 472
        },
        "id": "Eahqiv_jU23H",
        "outputId": "0b790650-3e3b-40db-bd35-b7270a305683"
      },
      "execution_count": 68,
      "outputs": [
        {
          "output_type": "display_data",
          "data": {
            "text/plain": [
              "<Figure size 640x480 with 2 Axes>"
            ],
            "image/png": "[encoded data removed]"
          },
          "metadata": {}
        }
      ]
    },
    {
      "cell_type": "code",
      "source": [
        "from sklearn.metrics import RocCurveDisplay\n",
        "\n",
        "RocCurveDisplay.from_estimator(xgb_model, X_test_scaled, y_test)\n",
        "plt.title(\"XGBoost – ROC Curve\")\n",
        "plt.show()\n"
      ],
      "metadata": {
        "colab": {
          "base_uri": "https://localhost:8080/",
          "height": 472
        },
        "id": "o4nQHyAtU5bl",
        "outputId": "5d921873-4d02-456f-f562-75cc094849ef"
      },
      "execution_count": 69,
      "outputs": [
        {
          "output_type": "display_data",
          "data": {
            "text/plain": [
              "<Figure size 640x480 with 1 Axes>"
            ],
            "image/png": "[encoded data removed]"
          },
          "metadata": {}
        }
      ]
    },
    {
      "cell_type": "code",
      "source": [
        "plt.figure(figsize=(8,5))\n",
        "plt.hist(y_proba_xgb, bins=30, color='teal', edgecolor='black')\n",
        "plt.title(\"Predicted Fraud Probabilities – XGBoost\")\n",
        "plt.xlabel(\"Probability\")\n",
        "plt.ylabel(\"Frequency\")\n",
        "plt.grid(True)\n",
        "plt.tight_layout()\n",
        "plt.show()\n"
      ],
      "metadata": {
        "colab": {
          "base_uri": "https://localhost:8080/",
          "height": 507
        },
        "id": "-9Vz0-v0U98f",
        "outputId": "37584797-d0a2-451e-c53a-038d65898d15"
      },
      "execution_count": 70,
      "outputs": [
        {
          "output_type": "display_data",
          "data": {
            "text/plain": [
              "<Figure size 800x500 with 1 Axes>"
            ],
            "image/png": "[encoded data removed]"
          },
          "metadata": {}
        }
      ]
    },
    {
      "cell_type": "markdown",
      "source": [
        "### **Business Insight:**\n",
        "\n",
        "XGBoost offered the best recall without pushing into unrealistic precision. Its gradient boosting structure is ideal for picking up complex fraud patterns, especially when subtle changes in balance or transaction type are involved.\n",
        "\n",
        "This model is best suited for real-time fraud prevention systems where catching frauds is prioritized with manageable false positives.\n"
      ],
      "metadata": {
        "id": "6Ntggkt_O5J3"
      }
    },
    {
      "cell_type": "markdown",
      "source": [
        "## **Model Comparison Summary**\n"
      ],
      "metadata": {
        "id": "ejd2s7a8PxVu"
      }
    },
    {
      "cell_type": "code",
      "source": [
        "import pandas as pd\n",
        "\n",
        "summary_df = pd.DataFrame({\n",
        "    'Model': ['Logistic Regression', 'Random Forest', 'XGBoost (Tuned)'],\n",
        "    'Accuracy': [\n",
        "        lr_model.score(X_test_scaled, y_test),\n",
        "        rf_model.score(X_test_scaled, y_test),\n",
        "        xgb_model.score(X_test_scaled, y_test)\n",
        "    ],\n",
        "    'ROC-AUC': [\n",
        "        roc_auc_score(y_test, y_proba_lr),\n",
        "        roc_auc_score(y_test, y_proba_rf),\n",
        "        roc_auc_score(y_test, y_proba_xgb)\n",
        "    ]\n",
        "})\n",
        "\n",
        "summary_df\n"
      ],
      "metadata": {
        "colab": {
          "base_uri": "https://localhost:8080/",
          "height": 143
        },
        "id": "6L3ISeevP8Y9",
        "outputId": "d382438e-c5a4-4f5b-fd06-361c52c46f82"
      },
      "execution_count": 71,
      "outputs": [
        {
          "output_type": "execute_result",
          "data": {
            "text/plain": [
              "                 Model  Accuracy   ROC-AUC\n",
              "0  Logistic Regression  0.982952  0.991272\n",
              "1        Random Forest  0.999551  0.999989\n",
              "2      XGBoost (Tuned)  0.999551  0.999996"
            ],
            "text/html": [
              "\n",
              "  <div id=\"df-af0e5501-058c-48ee-bd5b-37458ca9a67e\" class=\"colab-df-container\">\n",
              "    <div>\n",
              "<style scoped>\n",
              "    .dataframe tbody tr th:only-of-type {\n",
              "        vertical-align: middle;\n",
              "    }\n",
              "\n",
              "    .dataframe tbody tr th {\n",
              "        vertical-align: top;\n",
              "    }\n",
              "\n",
              "    .dataframe thead th {\n",
              "        text-align: right;\n",
              "    }\n",
              "</style>\n",
              "<table border=\"1\" class=\"dataframe\">\n",
              "  <thead>\n",
              "    <tr style=\"text-align: right;\">\n",
              "      <th></th>\n",
              "      <th>Model</th>\n",
              "      <th>Accuracy</th>\n",
              "      <th>ROC-AUC</th>\n",
              "    </tr>\n",
              "  </thead>\n",
              "  <tbody>\n",
              "    <tr>\n",
              "      <th>0</th>\n",
              "      <td>Logistic Regression</td>\n",
              "      <td>0.982952</td>\n",
              "      <td>0.991272</td>\n",
              "    </tr>\n",
              "    <tr>\n",
              "      <th>1</th>\n",
              "      <td>Random Forest</td>\n",
              "      <td>0.999551</td>\n",
              "      <td>0.999989</td>\n",
              "    </tr>\n",
              "    <tr>\n",
              "      <th>2</th>\n",
              "      <td>XGBoost (Tuned)</td>\n",
              "      <td>0.999551</td>\n",
              "      <td>0.999996</td>\n",
              "    </tr>\n",
              "  </tbody>\n",
              "</table>\n",
              "</div>\n",
              "    <div class=\"colab-df-buttons\">\n",
              "\n",
              "  <div class=\"colab-df-container\">\n",
              "    <button class=\"colab-df-convert\" onclick=\"convertToInteractive('df-af0e5501-058c-48ee-bd5b-37458ca9a67e')\"\n",
              "            title=\"Convert this dataframe to an interactive table.\"\n",
              "            style=\"display:none;\">\n",
              "\n",
              "  <svg xmlns=\"http://www.w3.org/2000/svg\" height=\"24px\" viewBox=\"0 -960 960 960\">\n",
              "    <path d=\"M120-120v-720h720v720H120Zm60-500h600v-160H180v160Zm220 220h160v-160H400v160Zm0 220h160v-160H400v160ZM180-400h160v-160H180v160Zm440 0h160v-160H620v160ZM180-180h160v-160H180v160Zm440 0h160v-160H620v160Z\"/>\n",
              "  </svg>\n",
              "    </button>\n",
              "\n",
              "  <style>\n",
              "    .colab-df-container {\n",
              "      display:flex;\n",
              "      gap: 12px;\n",
              "    }\n",
              "\n",
              "    .colab-df-convert {\n",
              "      background-color: #E8F0FE;\n",
              "      border: none;\n",
              "      border-radius: 50%;\n",
              "      cursor: pointer;\n",
              "      display: none;\n",
              "      fill: #1967D2;\n",
              "      height: 32px;\n",
              "      padding: 0 0 0 0;\n",
              "      width: 32px;\n",
              "    }\n",
              "\n",
              "    .colab-df-convert:hover {\n",
              "      background-color: #E2EBFA;\n",
              "      box-shadow: 0px 1px 2px rgba(60, 64, 67, 0.3), 0px 1px 3px 1px rgba(60, 64, 67, 0.15);\n",
              "      fill: #174EA6;\n",
              "    }\n",
              "\n",
              "    .colab-df-buttons div {\n",
              "      margin-bottom: 4px;\n",
              "    }\n",
              "\n",
              "    [theme=dark] .colab-df-convert {\n",
              "      background-color: #3B4455;\n",
              "      fill: #D2E3FC;\n",
              "    }\n",
              "\n",
              "    [theme=dark] .colab-df-convert:hover {\n",
              "      background-color: #434B5C;\n",
              "      box-shadow: 0px 1px 3px 1px rgba(0, 0, 0, 0.15);\n",
              "      filter: drop-shadow(0px 1px 2px rgba(0, 0, 0, 0.3));\n",
              "      fill: #FFFFFF;\n",
              "    }\n",
              "  </style>\n",
              "\n",
              "    <script>\n",
              "      const buttonEl =\n",
              "        document.querySelector('#df-af0e5501-058c-48ee-bd5b-37458ca9a67e button.colab-df-convert');\n",
              "      buttonEl.style.display =\n",
              "        google.colab.kernel.accessAllowed ? 'block' : 'none';\n",
              "\n",
              "      async function convertToInteractive(key) {\n",
              "        const element = document.querySelector('#df-af0e5501-058c-48ee-bd5b-37458ca9a67e');\n",
              "        const dataTable =\n",
              "          await google.colab.kernel.invokeFunction('convertToInteractive',\n",
              "                                                    [key], {});\n",
              "        if (!dataTable) return;\n",
              "\n",
              "        const docLinkHtml = 'Like what you see? Visit the ' +\n",
              "          '<a target=\"_blank\" href=https://colab.research.google.com/notebooks/data_table.ipynb>data table notebook</a>'\n",
              "          + ' to learn more about interactive tables.';\n",
              "        element.innerHTML = '';\n",
              "        dataTable['output_type'] = 'display_data';\n",
              "        await google.colab.output.renderOutput(dataTable, element);\n",
              "        const docLink = document.createElement('div');\n",
              "        docLink.innerHTML = docLinkHtml;\n",
              "        element.appendChild(docLink);\n",
              "      }\n",
              "    </script>\n",
              "  </div>\n",
              "\n",
              "\n",
              "    <div id=\"df-f1f2b373-0d7d-44cb-8cf8-6086c1328ff7\">\n",
              "      <button class=\"colab-df-quickchart\" onclick=\"quickchart('df-f1f2b373-0d7d-44cb-8cf8-6086c1328ff7')\"\n",
              "                title=\"Suggest charts\"\n",
              "                style=\"display:none;\">\n",
              "\n",
              "<svg xmlns=\"http://www.w3.org/2000/svg\" height=\"24px\"viewBox=\"0 0 24 24\"\n",
              "     width=\"24px\">\n",
              "    <g>\n",
              "        <path d=\"M19 3H5c-1.1 0-2 .9-2 2v14c0 1.1.9 2 2 2h14c1.1 0 2-.9 2-2V5c0-1.1-.9-2-2-2zM9 17H7v-7h2v7zm4 0h-2V7h2v10zm4 0h-2v-4h2v4z\"/>\n",
              "    </g>\n",
              "</svg>\n",
              "      </button>\n",
              "\n",
              "<style>\n",
              "  .colab-df-quickchart {\n",
              "      --bg-color: #E8F0FE;\n",
              "      --fill-color: #1967D2;\n",
              "      --hover-bg-color: #E2EBFA;\n",
              "      --hover-fill-color: #174EA6;\n",
              "      --disabled-fill-color: #AAA;\n",
              "      --disabled-bg-color: #DDD;\n",
              "  }\n",
              "\n",
              "  [theme=dark] .colab-df-quickchart {\n",
              "      --bg-color: #3B4455;\n",
              "      --fill-color: #D2E3FC;\n",
              "      --hover-bg-color: #434B5C;\n",
              "      --hover-fill-color: #FFFFFF;\n",
              "      --disabled-bg-color: #3B4455;\n",
              "      --disabled-fill-color: #666;\n",
              "  }\n",
              "\n",
              "  .colab-df-quickchart {\n",
              "    background-color: var(--bg-color);\n",
              "    border: none;\n",
              "    border-radius: 50%;\n",
              "    cursor: pointer;\n",
              "    display: none;\n",
              "    fill: var(--fill-color);\n",
              "    height: 32px;\n",
              "    padding: 0;\n",
              "    width: 32px;\n",
              "  }\n",
              "\n",
              "  .colab-df-quickchart:hover {\n",
              "    background-color: var(--hover-bg-color);\n",
              "    box-shadow: 0 1px 2px rgba(60, 64, 67, 0.3), 0 1px 3px 1px rgba(60, 64, 67, 0.15);\n",
              "    fill: var(--button-hover-fill-color);\n",
              "  }\n",
              "\n",
              "  .colab-df-quickchart-complete:disabled,\n",
              "  .colab-df-quickchart-complete:disabled:hover {\n",
              "    background-color: var(--disabled-bg-color);\n",
              "    fill: var(--disabled-fill-color);\n",
              "    box-shadow: none;\n",
              "  }\n",
              "\n",
              "  .colab-df-spinner {\n",
              "    border: 2px solid var(--fill-color);\n",
              "    border-color: transparent;\n",
              "    border-bottom-color: var(--fill-color);\n",
              "    animation:\n",
              "      spin 1s steps(1) infinite;\n",
              "  }\n",
              "\n",
              "  @keyframes spin {\n",
              "    0% {\n",
              "      border-color: transparent;\n",
              "      border-bottom-color: var(--fill-color);\n",
              "      border-left-color: var(--fill-color);\n",
              "    }\n",
              "    20% {\n",
              "      border-color: transparent;\n",
              "      border-left-color: var(--fill-color);\n",
              "      border-top-color: var(--fill-color);\n",
              "    }\n",
              "    30% {\n",
              "      border-color: transparent;\n",
              "      border-left-color: var(--fill-color);\n",
              "      border-top-color: var(--fill-color);\n",
              "      border-right-color: var(--fill-color);\n",
              "    }\n",
              "    40% {\n",
              "      border-color: transparent;\n",
              "      border-right-color: var(--fill-color);\n",
              "      border-top-color: var(--fill-color);\n",
              "    }\n",
              "    60% {\n",
              "      border-color: transparent;\n",
              "      border-right-color: var(--fill-color);\n",
              "    }\n",
              "    80% {\n",
              "      border-color: transparent;\n",
              "      border-right-color: var(--fill-color);\n",
              "      border-bottom-color: var(--fill-color);\n",
              "    }\n",
              "    90% {\n",
              "      border-color: transparent;\n",
              "      border-bottom-color: var(--fill-color);\n",
              "    }\n",
              "  }\n",
              "</style>\n",
              "\n",
              "      <script>\n",
              "        async function quickchart(key) {\n",
              "          const quickchartButtonEl =\n",
              "            document.querySelector('#' + key + ' button');\n",
              "          quickchartButtonEl.disabled = true;  // To prevent multiple clicks.\n",
              "          quickchartButtonEl.classList.add('colab-df-spinner');\n",
              "          try {\n",
              "            const charts = await google.colab.kernel.invokeFunction(\n",
              "                'suggestCharts', [key], {});\n",
              "          } catch (error) {\n",
              "            console.error('Error during call to suggestCharts:', error);\n",
              "          }\n",
              "          quickchartButtonEl.classList.remove('colab-df-spinner');\n",
              "          quickchartButtonEl.classList.add('colab-df-quickchart-complete');\n",
              "        }\n",
              "        (() => {\n",
              "          let quickchartButtonEl =\n",
              "            document.querySelector('#df-f1f2b373-0d7d-44cb-8cf8-6086c1328ff7 button');\n",
              "          quickchartButtonEl.style.display =\n",
              "            google.colab.kernel.accessAllowed ? 'block' : 'none';\n",
              "        })();\n",
              "      </script>\n",
              "    </div>\n",
              "\n",
              "  <div id=\"id_f3d97df4-db99-4a63-a624-62df2a427638\">\n",
              "    <style>\n",
              "      .colab-df-generate {\n",
              "        background-color: #E8F0FE;\n",
              "        border: none;\n",
              "        border-radius: 50%;\n",
              "        cursor: pointer;\n",
              "        display: none;\n",
              "        fill: #1967D2;\n",
              "        height: 32px;\n",
              "        padding: 0 0 0 0;\n",
              "        width: 32px;\n",
              "      }\n",
              "\n",
              "      .colab-df-generate:hover {\n",
              "        background-color: #E2EBFA;\n",
              "        box-shadow: 0px 1px 2px rgba(60, 64, 67, 0.3), 0px 1px 3px 1px rgba(60, 64, 67, 0.15);\n",
              "        fill: #174EA6;\n",
              "      }\n",
              "\n",
              "      [theme=dark] .colab-df-generate {\n",
              "        background-color: #3B4455;\n",
              "        fill: #D2E3FC;\n",
              "      }\n",
              "\n",
              "      [theme=dark] .colab-df-generate:hover {\n",
              "        background-color: #434B5C;\n",
              "        box-shadow: 0px 1px 3px 1px rgba(0, 0, 0, 0.15);\n",
              "        filter: drop-shadow(0px 1px 2px rgba(0, 0, 0, 0.3));\n",
              "        fill: #FFFFFF;\n",
              "      }\n",
              "    </style>\n",
              "    <button class=\"colab-df-generate\" onclick=\"generateWithVariable('summary_df')\"\n",
              "            title=\"Generate code using this dataframe.\"\n",
              "            style=\"display:none;\">\n",
              "\n",
              "  <svg xmlns=\"http://www.w3.org/2000/svg\" height=\"24px\"viewBox=\"0 0 24 24\"\n",
              "       width=\"24px\">\n",
              "    <path d=\"M7,19H8.4L18.45,9,17,7.55,7,17.6ZM5,21V16.75L18.45,3.32a2,2,0,0,1,2.83,0l1.4,1.43a1.91,1.91,0,0,1,.58,1.4,1.91,1.91,0,0,1-.58,1.4L9.25,21ZM18.45,9,17,7.55Zm-12,3A5.31,5.31,0,0,0,4.9,8.1,5.31,5.31,0,0,0,1,6.5,5.31,5.31,0,0,0,4.9,4.9,5.31,5.31,0,0,0,6.5,1,5.31,5.31,0,0,0,8.1,4.9,5.31,5.31,0,0,0,12,6.5,5.46,5.46,0,0,0,6.5,12Z\"/>\n",
              "  </svg>\n",
              "    </button>\n",
              "    <script>\n",
              "      (() => {\n",
              "      const buttonEl =\n",
              "        document.querySelector('#id_f3d97df4-db99-4a63-a624-62df2a427638 button.colab-df-generate');\n",
              "      buttonEl.style.display =\n",
              "        google.colab.kernel.accessAllowed ? 'block' : 'none';\n",
              "\n",
              "      buttonEl.onclick = () => {\n",
              "        google.colab.notebook.generateWithVariable('summary_df');\n",
              "      }\n",
              "      })();\n",
              "    </script>\n",
              "  </div>\n",
              "\n",
              "    </div>\n",
              "  </div>\n"
            ],
            "application/vnd.google.colaboratory.intrinsic+json": {
              "type": "dataframe",
              "variable_name": "summary_df",
              "summary": "{\n  \"name\": \"summary_df\",\n  \"rows\": 3,\n  \"fields\": [\n    {\n      \"column\": \"Model\",\n      \"properties\": {\n        \"dtype\": \"string\",\n        \"num_unique_values\": 3,\n        \"samples\": [\n          \"Logistic Regression\",\n          \"Random Forest\",\n          \"XGBoost (Tuned)\"\n        ],\n        \"semantic_type\": \"\",\n        \"description\": \"\"\n      }\n    },\n    {\n      \"column\": \"Accuracy\",\n      \"properties\": {\n        \"dtype\": \"number\",\n        \"std\": 0.009583651843883392,\n        \"min\": 0.9829519964109467,\n        \"max\": 0.9995513683266039,\n        \"num_unique_values\": 2,\n        \"samples\": [\n          0.9995513683266039,\n          0.9829519964109467\n        ],\n        \"semantic_type\": \"\",\n        \"description\": \"\"\n      }\n    },\n    {\n      \"column\": \"ROC-AUC\",\n      \"properties\": {\n        \"dtype\": \"number\",\n        \"std\": 0.0050347381917433785,\n        \"min\": 0.9912719079056963,\n        \"max\": 0.9999956162269743,\n        \"num_unique_values\": 3,\n        \"samples\": [\n          0.9912719079056963,\n          0.9999890405674356\n        ],\n        \"semantic_type\": \"\",\n        \"description\": \"\"\n      }\n    }\n  ]\n}"
            }
          },
          "metadata": {},
          "execution_count": 71
        }
      ]
    },
    {
      "cell_type": "code",
      "source": [
        "import pandas as pd\n",
        "\n",
        "# Create results DataFrame\n",
        "xgb_results = pd.DataFrame({\n",
        "    'Actual_Label': y_test,\n",
        "    'Predicted_Label': y_pred_xgb,\n",
        "    'Predicted_Probability': y_proba_xgb\n",
        "})\n",
        "\n",
        "# Save to CSV\n",
        "xgb_results.to_csv('XGBoost_Tuned_Results.csv', index=False)\n",
        "print(\"CSV file 'XGBoost_Tuned_Results.csv' created successfully!\")\n"
      ],
      "metadata": {
        "colab": {
          "base_uri": "https://localhost:8080/"
        },
        "id": "HVIJhA1gaHGI",
        "outputId": "a158cb29-c21b-4852-8ad4-f20c256aa7ce"
      },
      "execution_count": 72,
      "outputs": [
        {
          "output_type": "stream",
          "name": "stdout",
          "text": [
            "CSV file 'XGBoost_Tuned_Results.csv' created successfully!\n"
          ]
        }
      ]
    },
    {
      "cell_type": "code",
      "source": [
        "from google.colab import files\n",
        "\n",
        "# Download the file\n",
        "files.download('XGBoost_Tuned_Results.csv')"
      ],
      "metadata": {
        "colab": {
          "base_uri": "https://localhost:8080/",
          "height": 17
        },
        "id": "gle6yFjxbhDh",
        "outputId": "73cccf79-3345-4ab2-a483-5d1918891c3e"
      },
      "execution_count": 73,
      "outputs": [
        {
          "output_type": "display_data",
          "data": {
            "text/plain": [
              "<IPython.core.display.Javascript object>"
            ],
            "application/javascript": [
              "\n",
              "    async function download(id, filename, size) {\n",
              "      if (!google.colab.kernel.accessAllowed) {\n",
              "        return;\n",
              "      }\n",
              "      const div = document.createElement('div');\n",
              "      const label = document.createElement('label');\n",
              "      label.textContent = `Downloading \"${filename}\": `;\n",
              "      div.appendChild(label);\n",
              "      const progress = document.createElement('progress');\n",
              "      progress.max = size;\n",
              "      div.appendChild(progress);\n",
              "      document.body.appendChild(div);\n",
              "\n",
              "      const buffers = [];\n",
              "      let downloaded = 0;\n",
              "\n",
              "      const channel = await google.colab.kernel.comms.open(id);\n",
              "      // Send a message to notify the kernel that we're ready.\n",
              "      channel.send({})\n",
              "\n",
              "      for await (const message of channel.messages) {\n",
              "        // Send a message to notify the kernel that we're ready.\n",
              "        channel.send({})\n",
              "        if (message.buffers) {\n",
              "          for (const buffer of message.buffers) {\n",
              "            buffers.push(buffer);\n",
              "            downloaded += buffer.byteLength;\n",
              "            progress.value = downloaded;\n",
              "          }\n",
              "        }\n",
              "      }\n",
              "      const blob = new Blob(buffers, {type: 'application/binary'});\n",
              "      const a = document.createElement('a');\n",
              "      a.href = window.URL.createObjectURL(blob);\n",
              "      a.download = filename;\n",
              "      div.appendChild(a);\n",
              "      a.click();\n",
              "      div.remove();\n",
              "    }\n",
              "  "
            ]
          },
          "metadata": {}
        },
        {
          "output_type": "display_data",
          "data": {
            "text/plain": [
              "<IPython.core.display.Javascript object>"
            ],
            "application/javascript": [
              "download(\"download_33f061ab-6d08-46c4-bd7d-8cb9dd5cfabc\", \"XGBoost_Tuned_Results.csv\", 38428)"
            ]
          },
          "metadata": {}
        }
      ]
    },
    {
      "cell_type": "code",
      "source": [
        "import joblib\n",
        "\n",
        "# Save the trained XGBoost model\n",
        "joblib.dump(xgb_model, 'xgb_model_trained.pkl')\n",
        "\n",
        "print(\"Model saved as xgb_model_trained.pkl\")\n"
      ],
      "metadata": {
        "colab": {
          "base_uri": "https://localhost:8080/"
        },
        "id": "iMHaeTvmbjpk",
        "outputId": "354b56ea-3f36-4aac-d38f-2691883e69a7"
      },
      "execution_count": 74,
      "outputs": [
        {
          "output_type": "stream",
          "name": "stdout",
          "text": [
            "Model saved as xgb_model_trained.pkl\n"
          ]
        }
      ]
    },
    {
      "cell_type": "code",
      "source": [
        "from google.colab import files\n",
        "\n",
        "# Download the saved model\n",
        "files.download('xgb_model_trained.pkl')"
      ],
      "metadata": {
        "colab": {
          "base_uri": "https://localhost:8080/",
          "height": 17
        },
        "id": "blSltHZRbrr_",
        "outputId": "a0df5fbf-2667-4814-b31e-e6db0f0607c2"
      },
      "execution_count": 75,
      "outputs": [
        {
          "output_type": "display_data",
          "data": {
            "text/plain": [
              "<IPython.core.display.Javascript object>"
            ],
            "application/javascript": [
              "\n",
              "    async function download(id, filename, size) {\n",
              "      if (!google.colab.kernel.accessAllowed) {\n",
              "        return;\n",
              "      }\n",
              "      const div = document.createElement('div');\n",
              "      const label = document.createElement('label');\n",
              "      label.textContent = `Downloading \"${filename}\": `;\n",
              "      div.appendChild(label);\n",
              "      const progress = document.createElement('progress');\n",
              "      progress.max = size;\n",
              "      div.appendChild(progress);\n",
              "      document.body.appendChild(div);\n",
              "\n",
              "      const buffers = [];\n",
              "      let downloaded = 0;\n",
              "\n",
              "      const channel = await google.colab.kernel.comms.open(id);\n",
              "      // Send a message to notify the kernel that we're ready.\n",
              "      channel.send({})\n",
              "\n",
              "      for await (const message of channel.messages) {\n",
              "        // Send a message to notify the kernel that we're ready.\n",
              "        channel.send({})\n",
              "        if (message.buffers) {\n",
              "          for (const buffer of message.buffers) {\n",
              "            buffers.push(buffer);\n",
              "            downloaded += buffer.byteLength;\n",
              "            progress.value = downloaded;\n",
              "          }\n",
              "        }\n",
              "      }\n",
              "      const blob = new Blob(buffers, {type: 'application/binary'});\n",
              "      const a = document.createElement('a');\n",
              "      a.href = window.URL.createObjectURL(blob);\n",
              "      a.download = filename;\n",
              "      div.appendChild(a);\n",
              "      a.click();\n",
              "      div.remove();\n",
              "    }\n",
              "  "
            ]
          },
          "metadata": {}
        },
        {
          "output_type": "display_data",
          "data": {
            "text/plain": [
              "<IPython.core.display.Javascript object>"
            ],
            "application/javascript": [
              "download(\"download_de13cf06-ab3d-4efc-b9e7-77f43ca2603b\", \"xgb_model_trained.pkl\", 191282)"
            ]
          },
          "metadata": {}
        }
      ]
    },
    {
      "cell_type": "markdown",
      "source": [
        "## **Model Performance Note**\n",
        "\n",
        "The models achieved unusually high precision and ROC-AUC scores due to the nature of the dataset, where fraud patterns are clearly separated. In a production system, further robustness checks and noise-handling mechanisms would be necessary. This notebook reflects an academic demonstration of a working pipeline under ideal conditions.\n"
      ],
      "metadata": {
        "id": "h80t5v6JRw5b"
      }
    },
    {
      "cell_type": "markdown",
      "source": [
        "# **Financial Impact Analysis**\n",
        "\n",
        "To understand the real-world value of fraud detection, I estimated the cost savings from catching fraudulent transactions.\n",
        "\n",
        "Assuming an average fraud transaction value, I calculated:\n",
        "- Total potential loss without a model\n",
        "- Expected savings using the current model's fraud recall\n",
        "\n",
        "This gives a business-facing insight into how much revenue the system protects.\n"
      ],
      "metadata": {
        "id": "lvwXk3jPTEAG"
      }
    },
    {
      "cell_type": "code",
      "source": [
        "# Assume average fraud transaction cost\n",
        "avg_fraud_amount = df[df['isFraud'] == 1]['amount'].mean()\n",
        "\n",
        "# Count of actual frauds in test set\n",
        "total_frauds = sum(y_test)\n",
        "\n",
        "# Detected frauds by best model (XGBoost)\n",
        "detected_frauds = sum((y_pred_xgb == 1) & (y_test == 1))\n",
        "\n",
        "# Undetected frauds (false negatives)\n",
        "undetected_frauds = total_frauds - detected_frauds\n",
        "\n",
        "# Financial impact\n",
        "potential_loss = total_frauds * avg_fraud_amount\n",
        "actual_loss = undetected_frauds * avg_fraud_amount\n",
        "savings = potential_loss - actual_loss\n",
        "\n",
        "print(\"Average Fraud Amount:\", avg_fraud_amount)\n",
        "print(\"Total Frauds in Test Set:\", total_frauds)\n",
        "print(\"Detected Frauds:\", detected_frauds)\n",
        "print(\"Undetected Frauds:\", undetected_frauds)\n",
        "print(\"Potential Loss without Model: ₹\", potential_loss)\n",
        "print(\"Estimated Loss with Model: ₹\", actual_loss)\n",
        "print(\"Estimated Savings: ₹\", savings)"
      ],
      "metadata": {
        "colab": {
          "base_uri": "https://localhost:8080/"
        },
        "id": "zI64hJg3TNhW",
        "outputId": "5ec57023-28be-49b9-d88e-d4115648e2c1"
      },
      "execution_count": 76,
      "outputs": [
        {
          "output_type": "stream",
          "name": "stdout",
          "text": [
            "Average Fraud Amount: 1192628.9320753065\n",
            "Total Frauds in Test Set: 228\n",
            "Detected Frauds: 227\n",
            "Undetected Frauds: 1\n",
            "Potential Loss without Model: ₹ 271919396.5131699\n",
            "Estimated Loss with Model: ₹ 1192628.9320753065\n",
            "Estimated Savings: ₹ 270726767.58109456\n"
          ]
        }
      ]
    },
    {
      "cell_type": "markdown",
      "source": [
        "# **Business Questions Addressed**\n",
        "\n",
        "**1. What is the model’s precision and accuracy in detecting fraudulent transactions?**  \n",
        "→ The tuned XGBoost model achieved ~99% accuracy, with high precision (~99%) and strong recall. These scores indicate excellent fraud detection on this dataset, while also acknowledging possible overfitting due to data clarity.\n",
        "\n",
        "**2. How reliable is the model in classifying transactions as legitimate or fraudulent?**  \n",
        "→ Reliability is high, with low false positives and strong ROC-AUC (~0.99), showing clear class separation. Visualization and confusion matrix confirm the model’s stability.\n",
        "\n",
        "**3. What are the potential losses due to model errors?**  \n",
        "→ Financial impact analysis showed that undetected fraud (false negatives) would still cause loss, but significantly reduced compared to no model. Estimated savings based on recall show business value.\n"
      ],
      "metadata": {
        "id": "7F6PvO-hdbqH"
      }
    },
    {
      "cell_type": "markdown",
      "source": [
        "# Final Notes\n",
        "\n",
        "- This notebook is built using a modular, reusable ML pipeline.  \n",
        "- Key steps: EDA ➝ Cleaning ➝ Feature Engineering ➝ Model Training ➝ Evaluation ➝ Business Insights.  \n",
        "- Models have been evaluated realistically with financial implications considered.  \n",
        "- The project focuses on *business alignment*, practical detection power, and explainability.\n",
        "\n",
        "📦 All final assets are included in the zip folder.\n",
        "\n",
        "🧾 Submission is aligned with BIA guidelines. For any clarifications or iterations, this notebook is designed for reproducibility and further extension.\n",
        "--- ---\n",
        "**Thank you for reviewing this project.**\n"
      ],
      "metadata": {
        "id": "kb5eErmEhxFe"
      }
    }
  ]
}